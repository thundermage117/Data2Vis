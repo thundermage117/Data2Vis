{
 "cells": [
  {
   "cell_type": "code",
   "execution_count": 1,
   "metadata": {},
   "outputs": [
    {
     "data": {
      "text/plain": [
       "device(type='cuda', index=0)"
      ]
     },
     "execution_count": 1,
     "metadata": {},
     "output_type": "execute_result"
    }
   ],
   "source": [
    "import numpy as np\n",
    "import matplotlib.pyplot as plt\n",
    "import pandas as pd\n",
    "import torch\n",
    "import torch.nn as nn\n",
    "from torch import Tensor\n",
    "from torch.nn import TransformerEncoder, TransformerEncoderLayer\n",
    "import torch.nn.functional as F\n",
    "import math\n",
    "\n",
    "device = torch.device(\"cuda:0\" if torch.cuda.is_available() else \"cpu\")\n",
    "device\n"
   ]
  },
  {
   "cell_type": "code",
   "execution_count": 2,
   "metadata": {},
   "outputs": [
    {
     "name": "stdout",
     "output_type": "stream",
     "text": [
      "[{\"str0\": \"H4PA10062\", \"str1\": \"TROIANO, NICHOLAS ROBERT\", \"str2\": \"C\", \"num0\": 3, \"str3\": \"IND\", \"num1\": 0, \"num2\": \"0\", \"num3\": 3369.16, \"num4\": 0, \"num5\": 3369.16, \"num6\": 0, \"num7\": 0, \"num8\": 0, \"num9\": \"0\", \"num10\": 0, \"num11\": 0, \"num12\": 0, \"num13\": 0, \"str4\": \"PA\", \"num14\": 10, \"num15\": \"0\", \"num16\": 0, \"dt0\": \"01/08/2015\", \"num17\": 0, \"num18\": \"0\"}]\n",
      "172719\n"
     ]
    }
   ],
   "source": [
    "# Loading the training dataset from ./data/train.sources\n",
    "\n",
    "with open('./data/train.sources') as f:\n",
    "    train_sources = f.readlines()\n",
    "train_sources = [x.strip() for x in train_sources]\n",
    "print(train_sources[0])\n",
    "print(len(train_sources))"
   ]
  },
  {
   "cell_type": "code",
   "execution_count": 273,
   "metadata": {},
   "outputs": [
    {
     "name": "stdout",
     "output_type": "stream",
     "text": [
      "[{\"num0\": 6.4, \"num1\": 3.2, \"num2\": 4.5, \"num3\": 1.5, \"str0\": \"versicolor\"}]\n",
      "21590\n"
     ]
    }
   ],
   "source": [
    "# Loading the development dataset from ./data/dev.sources\n",
    "\n",
    "with open('./data/dev.sources') as f:\n",
    "    dev_sources = f.readlines()\n",
    "dev_sources = [x.strip() for x in dev_sources]\n",
    "print(dev_sources[0])\n",
    "print(len(dev_sources))\n"
   ]
  },
  {
   "cell_type": "code",
   "execution_count": 3,
   "metadata": {},
   "outputs": [
    {
     "name": "stdout",
     "output_type": "stream",
     "text": [
      "[{\"str0\": \"Once in a Lifetime: the Extraordinary Story of the New York Cosmos\", \"num0\": 144601, \"num1\": 206351, \"num2\": null, \"num3\": 1000000, \"dt0\": \"7-Jul-06\", \"str1\": \"PG-13\", \"num4\": null, \"str2\": \"Miramax\", \"str3\": \"Based on Real Life Events\", \"str4\": \"Documentary\", \"str5\": \"Factual\", \"str6\": \"Matt Dillon\", \"num5\": 82, \"num6\": 7.1, \"num7\": 643}]\n",
      "21590\n"
     ]
    }
   ],
   "source": [
    "# Loading the testing dataset from ./data/test.sources\n",
    "\n",
    "with open('./data/test.sources') as f:\n",
    "    test_sources = f.readlines()\n",
    "test_sources = [x.strip() for x in test_sources]\n",
    "print(test_sources[0])\n",
    "print(len(test_sources))"
   ]
  },
  {
   "cell_type": "code",
   "execution_count": 4,
   "metadata": {},
   "outputs": [
    {
     "name": "stdout",
     "output_type": "stream",
     "text": [
      "{\"encoding\": {\"color\": {\"field\": \"str3\", \"type\": \"nominal\", \"primitiveType\": \"string\", \"selected\": true}, \"x\": {\"field\": \"num5\", \"type\": \"quantitative\", \"bin\": true}, \"y\": {\"field\": \"*\", \"aggregate\": \"count\", \"type\": \"quantitative\"}}, \"mark\": \"point\"}\n",
      "172719\n"
     ]
    }
   ],
   "source": [
    "# Importing the target dataset from ./data/train.targets\n",
    "with open('./data/train.targets') as f:\n",
    "    train_targets = f.readlines()\n",
    "\n",
    "train_targets = [x.strip() for x in train_targets]\n",
    "print(train_targets[0])\n",
    "print(len(train_targets))"
   ]
  },
  {
   "cell_type": "code",
   "execution_count": 274,
   "metadata": {},
   "outputs": [
    {
     "name": "stdout",
     "output_type": "stream",
     "text": [
      "{\"encoding\": {\"detail\": {\"field\": \"str0\", \"type\": \"nominal\", \"primitiveType\": \"string\", \"selected\": true}, \"x\": {\"field\": \"num2\", \"type\": \"quantitative\", \"bin\": true}, \"y\": {\"field\": \"*\", \"aggregate\": \"count\", \"type\": \"quantitative\"}}, \"mark\": \"line\"}\n",
      "21590\n"
     ]
    }
   ],
   "source": [
    "# Importing the development dataset from ./data/dev.targets\n",
    "with open('./data/dev.targets') as f:\n",
    "    dev_targets = f.readlines()\n",
    "\n",
    "dev_targets = [x.strip() for x in dev_targets]\n",
    "print(dev_targets[0])\n",
    "print(len(dev_targets))"
   ]
  },
  {
   "cell_type": "code",
   "execution_count": 5,
   "metadata": {},
   "outputs": [
    {
     "name": "stdout",
     "output_type": "stream",
     "text": [
      "{\"encoding\": {\"y\": {\"field\": \"dt0\", \"type\": \"temporal\", \"timeUnit\": \"year\"}, \"x\": {\"field\": \"num3\", \"type\": \"quantitative\"}}, \"mark\": \"circle\"}\n",
      "21590\n"
     ]
    }
   ],
   "source": [
    "# Importing the target dataset from ./data/test.targets\n",
    "with open('./data/test.targets') as f:\n",
    "    test_targets = f.readlines()\n",
    "\n",
    "test_targets = [x.strip() for x in test_targets]\n",
    "print(test_targets[0])\n",
    "print(len(test_targets))"
   ]
  },
  {
   "cell_type": "code",
   "execution_count": 275,
   "metadata": {},
   "outputs": [
    {
     "name": "stdout",
     "output_type": "stream",
     "text": [
      "374\n",
      "263\n"
     ]
    }
   ],
   "source": [
    "max_source_len = 0\n",
    "max_target_len = 0\n",
    "\n",
    "for i in range(len(train_sources)):\n",
    "    max_source_len = max(max_source_len, len(train_sources[i]))\n",
    "    max_target_len = max(max_target_len, len(train_targets[i]))\n",
    "\n",
    "for i in range(len(test_sources)):\n",
    "    max_source_len = max(max_source_len, len(test_sources[i]))\n",
    "    max_target_len = max(max_target_len, len(test_targets[i]))\n",
    "\n",
    "for i in range(len(dev_sources)):\n",
    "    max_source_len = max(max_source_len, len(dev_sources[i]))\n",
    "    max_target_len = max(max_target_len, len(dev_targets[i]))\n",
    "\n",
    "print(max_source_len)\n",
    "print(max_target_len)\n",
    "\n"
   ]
  },
  {
   "cell_type": "code",
   "execution_count": 7,
   "metadata": {},
   "outputs": [],
   "source": [
    "# Creating the vocabulary class for character level encoding\n",
    "class Vocabulary:\n",
    "    def __init__(self):\n",
    "        self.char2idx = {'<pad>': 0, '<sos>': 1, '<eos>': 2, '<unk>': 3}\n",
    "        self.idx2char = {0: '<pad>', 1: '<sos>', 2: '<eos>', 3: '<unk>'}\n",
    "        self.char_count = {}\n",
    "\n",
    "    def add_char(self, char):\n",
    "        if char not in self.char2idx:\n",
    "            self.char2idx[char] = len(self.char2idx)\n",
    "            self.idx2char[len(self.idx2char)] = char\n",
    "            self.char_count[char] = 1\n",
    "        else:\n",
    "            self.char_count[char] += 1\n",
    "\n",
    "    def add_sentence(self, sentence):\n",
    "        for char in sentence:\n",
    "            self.add_char(char)\n",
    "\n",
    "    def __len__(self):\n",
    "        return len(self.char2idx)\n"
   ]
  },
  {
   "cell_type": "code",
   "execution_count": 8,
   "metadata": {},
   "outputs": [
    {
     "name": "stdout",
     "output_type": "stream",
     "text": [
      "89\n",
      "47\n"
     ]
    }
   ],
   "source": [
    "# Creating the vocabulary for source and target\n",
    "source_vocab = Vocabulary()\n",
    "target_vocab = Vocabulary()\n",
    "\n",
    "for i in range(len(train_sources)):\n",
    "    source_vocab.add_sentence(train_sources[i])\n",
    "    target_vocab.add_sentence(train_targets[i])\n",
    "\n",
    "print(len(source_vocab))\n",
    "print(len(target_vocab))"
   ]
  },
  {
   "cell_type": "code",
   "execution_count": 9,
   "metadata": {},
   "outputs": [
    {
     "name": "stdout",
     "output_type": "stream",
     "text": [
      "{'[': 172719, '{': 172719, '\"': 6958572, 's': 1027860, 't': 1229422, 'r': 1200379, '0': 2109195, ':': 2425183, ' ': 5170489, 'H': 97192, '4': 499958, 'P': 89494, 'A': 279130, '1': 1351670, '6': 412607, '2': 749857, ',': 2256380, 'T': 157886, 'R': 204838, 'O': 125050, 'I': 177971, 'N': 221177, 'C': 149466, 'L': 162237, 'S': 210995, 'B': 82137, 'E': 200154, 'n': 1935969, 'u': 1664397, 'm': 1578255, '3': 603405, 'D': 136044, '9': 293685, '.': 182160, '5': 525618, '7': 390581, '8': 328975, 'd': 264510, '/': 159504, '}': 172719, ']': 172719, 'G': 50477, 'X': 7266, 'o': 414444, 'e': 433558, 'U': 76605, 'V': 14712, 'J': 28789, 'w': 46215, 'y': 119243, 'p': 115143, 'a': 402984, 'c': 181025, 'h': 101754, 'l': 466883, 'i': 364420, 'g': 83043, 'Z': 7050, 'M': 112696, 'v': 49546, 'b': 59290, '-': 215322, 'F': 67037, 'K': 33654, 'W': 44327, 'k': 62500, \"'\": 4583, 'x': 13343, 'Y': 27460, 'f': 30569, '(': 5382, ')': 5382, 'j': 1008, '*': 3523, 'z': 5594, '\\\\': 345, '!': 211, 'Q': 375, 'q': 723, '&': 379, '?': 115, '@': 54, '+': 128, '#': 25, '$': 14}\n",
      "{'{': 808022, '\"': 7338680, 'e': 2826858, 'n': 1552524, 'c': 545185, 'o': 623024, 'd': 913835, 'i': 2193825, 'g': 762875, ':': 2259517, ' ': 3711012, 'l': 935145, 'r': 1183790, 'f': 462584, 's': 333337, 't': 2455463, '3': 35768, ',': 1451495, 'y': 795415, 'p': 802856, 'm': 692810, 'a': 1409651, 'v': 403515, 'T': 136380, 'u': 821978, '}': 808022, 'x': 172719, '5': 33463, 'q': 267135, 'b': 148670, '*': 129724, 'k': 182255, '4': 34414, '7': 17680, '2': 43499, '1': 87919, '0': 85997, 'U': 23732, '8': 10023, '6': 14373, 'z': 7731, 'h': 3725, '9': 2927}\n",
      "{'<pad>': 0, '<sos>': 1, '<eos>': 2, '<unk>': 3, '[': 4, '{': 5, '\"': 6, 's': 7, 't': 8, 'r': 9, '0': 10, ':': 11, ' ': 12, 'H': 13, '4': 14, 'P': 15, 'A': 16, '1': 17, '6': 18, '2': 19, ',': 20, 'T': 21, 'R': 22, 'O': 23, 'I': 24, 'N': 25, 'C': 26, 'L': 27, 'S': 28, 'B': 29, 'E': 30, 'n': 31, 'u': 32, 'm': 33, '3': 34, 'D': 35, '9': 36, '.': 37, '5': 38, '7': 39, '8': 40, 'd': 41, '/': 42, '}': 43, ']': 44, 'G': 45, 'X': 46, 'o': 47, 'e': 48, 'U': 49, 'V': 50, 'J': 51, 'w': 52, 'y': 53, 'p': 54, 'a': 55, 'c': 56, 'h': 57, 'l': 58, 'i': 59, 'g': 60, 'Z': 61, 'M': 62, 'v': 63, 'b': 64, '-': 65, 'F': 66, 'K': 67, 'W': 68, 'k': 69, \"'\": 70, 'x': 71, 'Y': 72, 'f': 73, '(': 74, ')': 75, 'j': 76, '*': 77, 'z': 78, '\\\\': 79, '!': 80, 'Q': 81, 'q': 82, '&': 83, '?': 84, '@': 85, '+': 86, '#': 87, '$': 88}\n",
      "{'<pad>': 0, '<sos>': 1, '<eos>': 2, '<unk>': 3, '{': 4, '\"': 5, 'e': 6, 'n': 7, 'c': 8, 'o': 9, 'd': 10, 'i': 11, 'g': 12, ':': 13, ' ': 14, 'l': 15, 'r': 16, 'f': 17, 's': 18, 't': 19, '3': 20, ',': 21, 'y': 22, 'p': 23, 'm': 24, 'a': 25, 'v': 26, 'T': 27, 'u': 28, '}': 29, 'x': 30, '5': 31, 'q': 32, 'b': 33, '*': 34, 'k': 35, '4': 36, '7': 37, '2': 38, '1': 39, '0': 40, 'U': 41, '8': 42, '6': 43, 'z': 44, 'h': 45, '9': 46}\n"
     ]
    }
   ],
   "source": [
    "print(source_vocab.char_count)\n",
    "print(target_vocab.char_count)\n",
    "\n",
    "print(source_vocab.char2idx)\n",
    "print(target_vocab.char2idx)"
   ]
  },
  {
   "cell_type": "code",
   "execution_count": 10,
   "metadata": {},
   "outputs": [
    {
     "data": {
      "text/plain": [
       "{0: '<pad>',\n",
       " 1: '<sos>',\n",
       " 2: '<eos>',\n",
       " 3: '<unk>',\n",
       " 4: '[',\n",
       " 5: '{',\n",
       " 6: '\"',\n",
       " 7: 's',\n",
       " 8: 't',\n",
       " 9: 'r',\n",
       " 10: '0',\n",
       " 11: ':',\n",
       " 12: ' ',\n",
       " 13: 'H',\n",
       " 14: '4',\n",
       " 15: 'P',\n",
       " 16: 'A',\n",
       " 17: '1',\n",
       " 18: '6',\n",
       " 19: '2',\n",
       " 20: ',',\n",
       " 21: 'T',\n",
       " 22: 'R',\n",
       " 23: 'O',\n",
       " 24: 'I',\n",
       " 25: 'N',\n",
       " 26: 'C',\n",
       " 27: 'L',\n",
       " 28: 'S',\n",
       " 29: 'B',\n",
       " 30: 'E',\n",
       " 31: 'n',\n",
       " 32: 'u',\n",
       " 33: 'm',\n",
       " 34: '3',\n",
       " 35: 'D',\n",
       " 36: '9',\n",
       " 37: '.',\n",
       " 38: '5',\n",
       " 39: '7',\n",
       " 40: '8',\n",
       " 41: 'd',\n",
       " 42: '/',\n",
       " 43: '}',\n",
       " 44: ']',\n",
       " 45: 'G',\n",
       " 46: 'X',\n",
       " 47: 'o',\n",
       " 48: 'e',\n",
       " 49: 'U',\n",
       " 50: 'V',\n",
       " 51: 'J',\n",
       " 52: 'w',\n",
       " 53: 'y',\n",
       " 54: 'p',\n",
       " 55: 'a',\n",
       " 56: 'c',\n",
       " 57: 'h',\n",
       " 58: 'l',\n",
       " 59: 'i',\n",
       " 60: 'g',\n",
       " 61: 'Z',\n",
       " 62: 'M',\n",
       " 63: 'v',\n",
       " 64: 'b',\n",
       " 65: '-',\n",
       " 66: 'F',\n",
       " 67: 'K',\n",
       " 68: 'W',\n",
       " 69: 'k',\n",
       " 70: \"'\",\n",
       " 71: 'x',\n",
       " 72: 'Y',\n",
       " 73: 'f',\n",
       " 74: '(',\n",
       " 75: ')',\n",
       " 76: 'j',\n",
       " 77: '*',\n",
       " 78: 'z',\n",
       " 79: '\\\\',\n",
       " 80: '!',\n",
       " 81: 'Q',\n",
       " 82: 'q',\n",
       " 83: '&',\n",
       " 84: '?',\n",
       " 85: '@',\n",
       " 86: '+',\n",
       " 87: '#',\n",
       " 88: '$'}"
      ]
     },
     "execution_count": 10,
     "metadata": {},
     "output_type": "execute_result"
    }
   ],
   "source": [
    "source_vocab.idx2char"
   ]
  },
  {
   "cell_type": "code",
   "execution_count": 11,
   "metadata": {},
   "outputs": [],
   "source": [
    "# Creating the dataset class with padding\n",
    "class Dataset(torch.utils.data.Dataset):\n",
    "    def __init__(self, sources, targets, source_vocab, target_vocab, max_source_len, max_target_len):\n",
    "        self.sources = sources\n",
    "        self.targets = targets\n",
    "        self.source_vocab = source_vocab\n",
    "        self.target_vocab = target_vocab\n",
    "        self.max_source_len = max_source_len\n",
    "        self.max_target_len = max_target_len\n",
    "\n",
    "    def __len__(self):\n",
    "        return len(self.sources)\n",
    "\n",
    "    def __getitem__(self, index):\n",
    "        source = self.sources[index]\n",
    "        target = self.targets[index]\n",
    "\n",
    "        source_encoded = [self.source_vocab.char2idx['<sos>']]\n",
    "        for char in source:\n",
    "            if char in self.source_vocab.char2idx:\n",
    "                source_encoded.append(self.source_vocab.char2idx[char])\n",
    "            else:\n",
    "                source_encoded.append(self.source_vocab.char2idx['<unk>'])\n",
    "        source_encoded.append(self.source_vocab.char2idx['<eos>'])\n",
    "\n",
    "        target_encoded = [self.target_vocab.char2idx['<sos>']]\n",
    "        for char in target:\n",
    "            if char in self.target_vocab.char2idx:\n",
    "                target_encoded.append(self.target_vocab.char2idx[char])\n",
    "            else:\n",
    "                target_encoded.append(self.target_vocab.char2idx['<unk>'])\n",
    "        target_encoded.append(self.target_vocab.char2idx['<eos>'])\n",
    "\n",
    "        source_padded = source_encoded + [self.source_vocab.char2idx['<pad>']] * (self.max_source_len - len(source_encoded))\n",
    "        target_padded = target_encoded + [self.target_vocab.char2idx['<pad>']] * (self.max_target_len - len(target_encoded))\n",
    "\n",
    "        return torch.tensor(source_padded), torch.tensor(target_padded)"
   ]
  },
  {
   "cell_type": "code",
   "execution_count": 12,
   "metadata": {},
   "outputs": [],
   "source": [
    "# Creating the training and validation dataset\n",
    "max_source_len = max_source_len + 2\n",
    "max_target_len = max_target_len + 2\n",
    "train_dataset = Dataset(train_sources, train_targets, source_vocab, target_vocab, max_source_len, max_target_len)\n",
    "\n",
    "\n",
    "# Creating the training and validation dataloaders\n",
    "train_dataloader = torch.utils.data.DataLoader(train_dataset, batch_size=4, shuffle=True)\n"
   ]
  },
  {
   "cell_type": "code",
   "execution_count": 276,
   "metadata": {},
   "outputs": [],
   "source": [
    "# Creating the development dataset\n",
    "dev_dataset = Dataset(dev_sources, dev_targets, source_vocab, target_vocab, max_source_len, max_target_len)\n",
    "\n",
    "dev_dataloader = torch.utils.data.DataLoader(dev_dataset, batch_size=4, shuffle=True)"
   ]
  },
  {
   "cell_type": "code",
   "execution_count": 13,
   "metadata": {},
   "outputs": [],
   "source": [
    "# Creating the testing dataset\n",
    "test_dataset = Dataset(test_sources, test_targets, source_vocab, target_vocab, max_source_len, max_target_len)\n",
    "\n",
    "test_dataloader = torch.utils.data.DataLoader(test_dataset, batch_size=4, shuffle=True)"
   ]
  },
  {
   "cell_type": "code",
   "execution_count": 14,
   "metadata": {},
   "outputs": [],
   "source": [
    "from torch.autograd import Variable\n",
    "class Encoder(nn.Module):\n",
    "    def __init__(self, input_size, embed_size, hidden_size,\n",
    "                 n_layers=1, dropout=0.5):\n",
    "        super(Encoder, self).__init__()\n",
    "        self.input_size = input_size\n",
    "        self.hidden_size = hidden_size\n",
    "        self.embed_size = embed_size\n",
    "        self.embed = nn.Embedding(input_size, embed_size)\n",
    "        self.gru = nn.GRU(embed_size, hidden_size, n_layers,\n",
    "                          dropout=dropout, bidirectional=True)\n",
    "\n",
    "    def forward(self, src, hidden=None):\n",
    "        embedded = self.embed(src)\n",
    "        outputs, hidden = self.gru(embedded, hidden)\n",
    "        outputs = (outputs[:, :, :self.hidden_size] +\n",
    "                   outputs[:, :, self.hidden_size:])\n",
    "        return outputs, hidden\n",
    "\n",
    "\n",
    "class Attention(nn.Module):\n",
    "    def __init__(self, hidden_size):\n",
    "        super(Attention, self).__init__()\n",
    "        self.hidden_size = hidden_size\n",
    "        self.attn = nn.Linear(self.hidden_size * 2, hidden_size)\n",
    "        self.v = nn.Parameter(torch.rand(hidden_size))\n",
    "        stdv = 1. / math.sqrt(self.v.size(0))\n",
    "        self.v.data.uniform_(-stdv, stdv)\n",
    "\n",
    "    def forward(self, hidden, encoder_outputs):\n",
    "        timestep = encoder_outputs.size(0)\n",
    "        h = hidden.repeat(timestep, 1, 1).transpose(0, 1)\n",
    "        encoder_outputs = encoder_outputs.transpose(0, 1) \n",
    "        attn_energies = self.score(h, encoder_outputs)\n",
    "        return F.softmax(attn_energies, dim=1).unsqueeze(1)\n",
    "\n",
    "    def score(self, hidden, encoder_outputs):\n",
    "        energy = F.relu(self.attn(torch.cat([hidden, encoder_outputs], 2)))\n",
    "        energy = energy.transpose(1, 2) \n",
    "        v = self.v.repeat(encoder_outputs.size(0), 1).unsqueeze(1) \n",
    "        energy = torch.bmm(v, energy)  \n",
    "        return energy.squeeze(1) \n",
    "\n",
    "\n",
    "class Decoder(nn.Module):\n",
    "    def __init__(self, embed_size, hidden_size, output_size,\n",
    "                 n_layers=1, dropout=0.2):\n",
    "        super(Decoder, self).__init__()\n",
    "        self.embed_size = embed_size\n",
    "        self.hidden_size = hidden_size\n",
    "        self.output_size = output_size\n",
    "        self.n_layers = n_layers\n",
    "\n",
    "        self.embed = nn.Embedding(output_size, embed_size)\n",
    "        self.dropout = nn.Dropout(dropout, inplace=True)\n",
    "        self.attention = Attention(hidden_size)\n",
    "        self.gru = nn.GRU(hidden_size + embed_size, hidden_size,\n",
    "                          n_layers, dropout=dropout)\n",
    "        self.out = nn.Linear(hidden_size * 2, output_size)\n",
    "\n",
    "    def forward(self, input, last_hidden, encoder_outputs):\n",
    "        embedded = self.embed(input).unsqueeze(0) \n",
    "        embedded = self.dropout(embedded)\n",
    "        attn_weights = self.attention(last_hidden[-1], encoder_outputs)\n",
    "        context = attn_weights.bmm(encoder_outputs.transpose(0, 1)) \n",
    "        context = context.transpose(0, 1)\n",
    "        rnn_input = torch.cat([embedded, context], 2)\n",
    "        output, hidden = self.gru(rnn_input, last_hidden)\n",
    "        output = output.squeeze(0)  # (1,B,N) -> (B,N)\n",
    "        context = context.squeeze(0)\n",
    "        output = self.out(torch.cat([output, context], 1))\n",
    "        output = F.log_softmax(output, dim=1)\n",
    "        return output, hidden, attn_weights\n",
    "\n",
    "\n",
    "class Seq2Seq(nn.Module):\n",
    "    def __init__(self, encoder, decoder):\n",
    "        super(Seq2Seq, self).__init__()\n",
    "        self.encoder = encoder\n",
    "        self.decoder = decoder\n",
    "\n",
    "    def forward(self, src, trg, teacher_forcing_ratio=0.5):\n",
    "        batch_size = src.size(1)\n",
    "        max_len = trg.size(0)\n",
    "        vocab_size = self.decoder.output_size\n",
    "        outputs = Variable(torch.zeros(max_len, batch_size, vocab_size)).cuda()\n",
    "\n",
    "        encoder_output, hidden = self.encoder(src)\n",
    "        hidden = hidden[:self.decoder.n_layers]\n",
    "        output = Variable(trg.data[0, :])  # sos\n",
    "        for t in range(1, max_len):\n",
    "            output, hidden, attn_weights = self.decoder(\n",
    "                    output, hidden, encoder_output)\n",
    "            outputs[t] = output\n",
    "            is_teacher = np.random.random() < teacher_forcing_ratio\n",
    "            top1 = output.data.max(1)[1]\n",
    "            output = Variable(trg.data[t] if is_teacher else top1).cuda()\n",
    "        return outputs"
   ]
  },
  {
   "cell_type": "code",
   "execution_count": 40,
   "metadata": {},
   "outputs": [
    {
     "data": {
      "text/plain": [
       "Seq2Seq(\n",
       "  (encoder): Encoder(\n",
       "    (embed): Embedding(89, 256)\n",
       "    (gru): GRU(256, 256, num_layers=2, dropout=0.5, bidirectional=True)\n",
       "  )\n",
       "  (decoder): Decoder(\n",
       "    (embed): Embedding(47, 256)\n",
       "    (dropout): Dropout(p=0.5, inplace=True)\n",
       "    (attention): Attention(\n",
       "      (attn): Linear(in_features=512, out_features=256, bias=True)\n",
       "    )\n",
       "    (gru): GRU(512, 256, num_layers=2, dropout=0.5)\n",
       "    (out): Linear(in_features=512, out_features=47, bias=True)\n",
       "  )\n",
       ")"
      ]
     },
     "execution_count": 40,
     "metadata": {},
     "output_type": "execute_result"
    }
   ],
   "source": [
    "# Creating the model\n",
    "INPUT_DIM = len(source_vocab)\n",
    "OUTPUT_DIM = len(target_vocab)\n",
    "ENC_EMB_DIM = 128\n",
    "DEC_EMB_DIM = 128\n",
    "HID_DIM = 256\n",
    "N_LAYERS = 2\n",
    "ENC_DROPOUT = 0.5\n",
    "DEC_DROPOUT = 0.5\n",
    "\n",
    "enc = Encoder(INPUT_DIM, ENC_EMB_DIM, HID_DIM, N_LAYERS, ENC_DROPOUT)\n",
    "dec = Decoder(DEC_EMB_DIM, HID_DIM, OUTPUT_DIM, N_LAYERS, DEC_DROPOUT)\n",
    "model = Seq2Seq(enc, dec).to(device)\n",
    "model"
   ]
  },
  {
   "cell_type": "code",
   "execution_count": 30,
   "metadata": {},
   "outputs": [
    {
     "name": "stdout",
     "output_type": "stream",
     "text": [
      "torch.Size([376, 4])\n",
      "torch.Size([265, 4])\n",
      "torch.Size([265, 4, 47])\n"
     ]
    }
   ],
   "source": [
    "# Use first batch from train_dataloader to test the model\n",
    "batch = next(iter(train_dataloader))\n",
    "source = batch[0].to(device)\n",
    "target = batch[1].to(device)\n",
    "source=source.permute(1,0)\n",
    "target=target.permute(1,0)\n",
    "\n",
    "print(source.shape)\n",
    "print(target.shape)\n",
    "\n",
    "# Testing the model\n",
    "output = model(source, target)\n",
    "print(output.shape)"
   ]
  },
  {
   "cell_type": "code",
   "execution_count": 41,
   "metadata": {},
   "outputs": [
    {
     "name": "stdout",
     "output_type": "stream",
     "text": [
      "The model has 3,148,847 trainable parameters\n"
     ]
    }
   ],
   "source": [
    "# Counting the number of parameters in the model\n",
    "def count_parameters(model):\n",
    "    return sum(p.numel() for p in model.parameters() if p.requires_grad)\n",
    "\n",
    "print(f'The model has {count_parameters(model):,} trainable parameters')"
   ]
  },
  {
   "cell_type": "code",
   "execution_count": 32,
   "metadata": {},
   "outputs": [
    {
     "name": "stdout",
     "output_type": "stream",
     "text": [
      "|===========================================================================|\n",
      "|                  PyTorch CUDA memory summary, device ID 0                 |\n",
      "|---------------------------------------------------------------------------|\n",
      "|            CUDA OOMs: 0            |        cudaMalloc retries: 0         |\n",
      "|===========================================================================|\n",
      "|        Metric         | Cur Usage  | Peak Usage | Tot Alloc  | Tot Freed  |\n",
      "|---------------------------------------------------------------------------|\n",
      "| Allocated memory      |   2564 MiB |   2607 MiB |  10245 GiB |  10242 GiB |\n",
      "|       from large pool |   2501 MiB |   2556 MiB |  10135 GiB |  10133 GiB |\n",
      "|       from small pool |     63 MiB |     63 MiB |    110 GiB |    109 GiB |\n",
      "|---------------------------------------------------------------------------|\n",
      "| Active memory         |   2564 MiB |   2607 MiB |  10245 GiB |  10242 GiB |\n",
      "|       from large pool |   2501 MiB |   2556 MiB |  10135 GiB |  10133 GiB |\n",
      "|       from small pool |     63 MiB |     63 MiB |    110 GiB |    109 GiB |\n",
      "|---------------------------------------------------------------------------|\n",
      "| Requested memory      |   2561 MiB |   2590 MiB |   9865 GiB |   9863 GiB |\n",
      "|       from large pool |   2498 MiB |   2527 MiB |   9756 GiB |   9753 GiB |\n",
      "|       from small pool |     62 MiB |     63 MiB |    109 GiB |    109 GiB |\n",
      "|---------------------------------------------------------------------------|\n",
      "| GPU reserved memory   |   2912 MiB |   2912 MiB |   2912 MiB |      0 B   |\n",
      "|       from large pool |   2848 MiB |   2848 MiB |   2848 MiB |      0 B   |\n",
      "|       from small pool |     64 MiB |     64 MiB |     64 MiB |      0 B   |\n",
      "|---------------------------------------------------------------------------|\n",
      "| Non-releasable memory | 325185 KiB | 384330 KiB |   3246 GiB |   3246 GiB |\n",
      "|       from large pool | 324219 KiB | 383739 KiB |   3129 GiB |   3129 GiB |\n",
      "|       from small pool |    965 KiB |  26088 KiB |    116 GiB |    116 GiB |\n",
      "|---------------------------------------------------------------------------|\n",
      "| Allocations           |    3138    |    6126    |    6802 K  |    6799 K  |\n",
      "|       from large pool |     547    |    1067    |    1660 K  |    1659 K  |\n",
      "|       from small pool |    2591    |    5061    |    5142 K  |    5139 K  |\n",
      "|---------------------------------------------------------------------------|\n",
      "| Active allocs         |    3138    |    6126    |    6802 K  |    6799 K  |\n",
      "|       from large pool |     547    |    1067    |    1660 K  |    1659 K  |\n",
      "|       from small pool |    2591    |    5061    |    5142 K  |    5139 K  |\n",
      "|---------------------------------------------------------------------------|\n",
      "| GPU reserved segments |     160    |     160    |     160    |       0    |\n",
      "|       from large pool |     128    |     128    |     128    |       0    |\n",
      "|       from small pool |      32    |      32    |      32    |       0    |\n",
      "|---------------------------------------------------------------------------|\n",
      "| Non-releasable allocs |     135    |     445    |    3148 K  |    3148 K  |\n",
      "|       from large pool |     126    |     127    |     590 K  |     590 K  |\n",
      "|       from small pool |       9    |     440    |    2558 K  |    2558 K  |\n",
      "|---------------------------------------------------------------------------|\n",
      "| Oversize allocations  |       0    |       0    |       0    |       0    |\n",
      "|---------------------------------------------------------------------------|\n",
      "| Oversize GPU segments |       0    |       0    |       0    |       0    |\n",
      "|===========================================================================|\n",
      "\n"
     ]
    }
   ],
   "source": [
    "print(torch.cuda.memory_summary(device=None, abbreviated=False))"
   ]
  },
  {
   "cell_type": "code",
   "execution_count": 33,
   "metadata": {},
   "outputs": [
    {
     "name": "stdout",
     "output_type": "stream",
     "text": [
      "43180\n",
      "5398\n"
     ]
    }
   ],
   "source": [
    "# Count the number of batches in the train_dataloader\n",
    "num_batches = len(train_dataloader)\n",
    "print(num_batches)\n",
    "num_batches = len(test_dataloader)\n",
    "print(num_batches)"
   ]
  },
  {
   "cell_type": "code",
   "execution_count": 42,
   "metadata": {},
   "outputs": [],
   "source": [
    "losses = []"
   ]
  },
  {
   "cell_type": "code",
   "execution_count": 43,
   "metadata": {},
   "outputs": [
    {
     "name": "stdout",
     "output_type": "stream",
     "text": [
      "Batch:  0 Loss:  3.8662450313568115\n",
      "Batch:  1 Loss:  3.3926143646240234\n",
      "Batch:  2 Loss:  3.2016782760620117\n",
      "Batch:  3 Loss:  3.0832767486572266\n",
      "Batch:  4 Loss:  3.0788521766662598\n",
      "Batch:  5 Loss:  3.02580189704895\n",
      "Batch:  6 Loss:  3.0315282344818115\n",
      "Batch:  7 Loss:  2.987089157104492\n",
      "Batch:  8 Loss:  3.0125653743743896\n",
      "Batch:  9 Loss:  2.9653022289276123\n",
      "Batch:  10 Loss:  2.9566807746887207\n",
      "Batch:  11 Loss:  2.9003372192382812\n",
      "Batch:  12 Loss:  2.9137699604034424\n",
      "Batch:  13 Loss:  2.8995282649993896\n",
      "Batch:  14 Loss:  2.8585824966430664\n",
      "Batch:  15 Loss:  2.838686466217041\n",
      "Batch:  16 Loss:  2.8236987590789795\n",
      "Batch:  17 Loss:  2.796321392059326\n",
      "Batch:  18 Loss:  2.7391035556793213\n",
      "Batch:  19 Loss:  2.6742324829101562\n",
      "Batch:  20 Loss:  2.622162103652954\n",
      "Batch:  21 Loss:  2.6417531967163086\n",
      "Batch:  22 Loss:  2.6204960346221924\n",
      "Batch:  23 Loss:  2.589695453643799\n",
      "Batch:  24 Loss:  2.5216996669769287\n",
      "Batch:  25 Loss:  2.5437395572662354\n",
      "Batch:  26 Loss:  2.4369473457336426\n",
      "Batch:  27 Loss:  2.463587522506714\n",
      "Batch:  28 Loss:  2.484879732131958\n",
      "Batch:  29 Loss:  2.4434022903442383\n",
      "Batch:  30 Loss:  2.322171211242676\n",
      "Batch:  31 Loss:  2.3163857460021973\n",
      "Batch:  32 Loss:  2.23193359375\n",
      "Batch:  33 Loss:  2.225473165512085\n",
      "Batch:  34 Loss:  2.2488656044006348\n",
      "Batch:  35 Loss:  2.1209657192230225\n",
      "Batch:  36 Loss:  2.1798324584960938\n",
      "Batch:  37 Loss:  2.1343963146209717\n",
      "Batch:  38 Loss:  2.2156760692596436\n",
      "Batch:  39 Loss:  2.1677072048187256\n",
      "Batch:  40 Loss:  1.9268120527267456\n",
      "Batch:  41 Loss:  2.063279390335083\n",
      "Batch:  42 Loss:  2.0835561752319336\n",
      "Batch:  43 Loss:  1.8969573974609375\n",
      "Batch:  44 Loss:  1.8730864524841309\n",
      "Batch:  45 Loss:  2.0860836505889893\n",
      "Batch:  46 Loss:  1.8308374881744385\n",
      "Batch:  47 Loss:  1.7931733131408691\n",
      "Batch:  48 Loss:  1.863157033920288\n",
      "Batch:  49 Loss:  1.7782812118530273\n",
      "Batch:  50 Loss:  1.8510841131210327\n",
      "Batch:  51 Loss:  1.7777048349380493\n",
      "Batch:  52 Loss:  1.7167097330093384\n",
      "Batch:  53 Loss:  1.8684496879577637\n",
      "Batch:  54 Loss:  1.7553616762161255\n",
      "Batch:  55 Loss:  1.630805253982544\n",
      "Batch:  56 Loss:  1.6960417032241821\n",
      "Batch:  57 Loss:  1.530555248260498\n",
      "Batch:  58 Loss:  1.5410934686660767\n",
      "Batch:  59 Loss:  1.7249099016189575\n",
      "Batch:  60 Loss:  1.5831758975982666\n",
      "Batch:  61 Loss:  1.5451974868774414\n",
      "Batch:  62 Loss:  1.6361839771270752\n",
      "Batch:  63 Loss:  1.442397117614746\n",
      "Batch:  64 Loss:  1.443118691444397\n",
      "Batch:  65 Loss:  1.5235141515731812\n",
      "Batch:  66 Loss:  1.6230125427246094\n",
      "Batch:  67 Loss:  1.5318819284439087\n",
      "Batch:  68 Loss:  1.3437628746032715\n",
      "Batch:  69 Loss:  1.400748610496521\n",
      "Batch:  70 Loss:  1.5183749198913574\n",
      "Batch:  71 Loss:  1.270169973373413\n",
      "Batch:  72 Loss:  1.2474607229232788\n",
      "Batch:  73 Loss:  1.3693549633026123\n",
      "Batch:  74 Loss:  1.2550315856933594\n",
      "Batch:  75 Loss:  1.3138813972473145\n",
      "Batch:  76 Loss:  1.1428332328796387\n",
      "Batch:  77 Loss:  1.1695448160171509\n",
      "Batch:  78 Loss:  1.1337988376617432\n",
      "Batch:  79 Loss:  1.0538276433944702\n",
      "Batch:  80 Loss:  1.299635410308838\n",
      "Batch:  81 Loss:  1.0775400400161743\n",
      "Batch:  82 Loss:  1.1073899269104004\n",
      "Batch:  83 Loss:  1.3313868045806885\n",
      "Batch:  84 Loss:  1.0514931678771973\n",
      "Batch:  85 Loss:  1.1928657293319702\n",
      "Batch:  86 Loss:  1.2148317098617554\n",
      "Batch:  87 Loss:  1.0353953838348389\n",
      "Batch:  88 Loss:  1.328892707824707\n",
      "Batch:  89 Loss:  1.2765978574752808\n",
      "Batch:  90 Loss:  1.1347860097885132\n",
      "Batch:  91 Loss:  1.1293481588363647\n",
      "Batch:  92 Loss:  1.0623900890350342\n",
      "Batch:  93 Loss:  1.0440354347229004\n",
      "Batch:  94 Loss:  1.0252292156219482\n",
      "Batch:  95 Loss:  0.7936985492706299\n",
      "Batch:  96 Loss:  0.9183656573295593\n",
      "Batch:  97 Loss:  0.8493567109107971\n",
      "Batch:  98 Loss:  0.9097048044204712\n",
      "Batch:  99 Loss:  0.8368350863456726\n",
      "Batch:  100 Loss:  0.8660328388214111\n",
      "Batch:  101 Loss:  0.8864381313323975\n",
      "Batch:  102 Loss:  0.8766025304794312\n",
      "Batch:  103 Loss:  1.0143697261810303\n",
      "Batch:  104 Loss:  1.0517488718032837\n",
      "Batch:  105 Loss:  0.9909336566925049\n",
      "Batch:  106 Loss:  0.8863940238952637\n",
      "Batch:  107 Loss:  0.824701189994812\n",
      "Batch:  108 Loss:  0.6639518737792969\n",
      "Batch:  109 Loss:  0.6074982285499573\n",
      "Batch:  110 Loss:  0.9118879437446594\n",
      "Batch:  111 Loss:  0.8882081508636475\n",
      "Batch:  112 Loss:  0.8117954730987549\n",
      "Batch:  113 Loss:  0.7205459475517273\n",
      "Batch:  114 Loss:  0.8250089287757874\n",
      "Batch:  115 Loss:  0.839536726474762\n",
      "Batch:  116 Loss:  0.7860702276229858\n",
      "Batch:  117 Loss:  0.6910296678543091\n",
      "Batch:  118 Loss:  0.8148697018623352\n",
      "Batch:  119 Loss:  0.6956455707550049\n",
      "Batch:  120 Loss:  0.6420873999595642\n",
      "Batch:  121 Loss:  0.5492681860923767\n",
      "Batch:  122 Loss:  0.9462792277336121\n",
      "Batch:  123 Loss:  0.7545042634010315\n",
      "Batch:  124 Loss:  0.44871199131011963\n",
      "Batch:  125 Loss:  0.5684195756912231\n",
      "Batch:  126 Loss:  0.5313541293144226\n",
      "Batch:  127 Loss:  0.6986449360847473\n",
      "Batch:  128 Loss:  0.7805966734886169\n",
      "Batch:  129 Loss:  0.6795538663864136\n",
      "Batch:  130 Loss:  0.6444774270057678\n",
      "Batch:  131 Loss:  0.5911063551902771\n",
      "Batch:  132 Loss:  0.539680004119873\n",
      "Batch:  133 Loss:  0.5268473029136658\n",
      "Batch:  134 Loss:  0.635847806930542\n",
      "Batch:  135 Loss:  0.5502114295959473\n",
      "Batch:  136 Loss:  0.6374500393867493\n",
      "Batch:  137 Loss:  0.6151943802833557\n",
      "Batch:  138 Loss:  0.623137354850769\n",
      "Batch:  139 Loss:  0.6221750378608704\n",
      "Batch:  140 Loss:  0.7255484461784363\n",
      "Batch:  141 Loss:  0.6991873979568481\n",
      "Batch:  142 Loss:  0.4776027500629425\n",
      "Batch:  143 Loss:  0.4645182490348816\n",
      "Batch:  144 Loss:  0.7214393019676208\n",
      "Batch:  145 Loss:  0.7306812405586243\n",
      "Batch:  146 Loss:  0.4175414443016052\n",
      "Batch:  147 Loss:  0.5842669010162354\n",
      "Batch:  148 Loss:  0.4789000153541565\n",
      "Batch:  149 Loss:  0.6219938397407532\n",
      "Batch:  150 Loss:  0.491364985704422\n",
      "Batch:  151 Loss:  0.4932739734649658\n",
      "Batch:  152 Loss:  0.48805466294288635\n",
      "Batch:  153 Loss:  0.7980294823646545\n",
      "Batch:  154 Loss:  0.5323016047477722\n",
      "Batch:  155 Loss:  0.5850282311439514\n",
      "Batch:  156 Loss:  0.8191627860069275\n",
      "Batch:  157 Loss:  0.5939136147499084\n",
      "Batch:  158 Loss:  0.43911001086235046\n",
      "Batch:  159 Loss:  0.4706013798713684\n",
      "Batch:  160 Loss:  0.41732916235923767\n",
      "Batch:  161 Loss:  0.48796597123146057\n",
      "Batch:  162 Loss:  0.40301868319511414\n",
      "Batch:  163 Loss:  0.3097204267978668\n",
      "Batch:  164 Loss:  0.4163098633289337\n",
      "Batch:  165 Loss:  0.4876934885978699\n",
      "Batch:  166 Loss:  0.5791836380958557\n",
      "Batch:  167 Loss:  0.43036508560180664\n",
      "Batch:  168 Loss:  0.42023801803588867\n",
      "Batch:  169 Loss:  0.44778701663017273\n",
      "Batch:  170 Loss:  0.3821280002593994\n",
      "Batch:  171 Loss:  0.4660790264606476\n",
      "Batch:  172 Loss:  0.28331732749938965\n",
      "Batch:  173 Loss:  0.31673330068588257\n",
      "Batch:  174 Loss:  0.2824925482273102\n",
      "Batch:  175 Loss:  0.5219538807868958\n",
      "Batch:  176 Loss:  0.3823620080947876\n",
      "Batch:  177 Loss:  0.31379029154777527\n",
      "Batch:  178 Loss:  0.26834574341773987\n",
      "Batch:  179 Loss:  0.664031982421875\n",
      "Batch:  180 Loss:  0.6468712091445923\n",
      "Batch:  181 Loss:  0.4314518868923187\n",
      "Batch:  182 Loss:  0.4207424521446228\n",
      "Batch:  183 Loss:  0.43797042965888977\n",
      "Batch:  184 Loss:  0.3865165412425995\n",
      "Batch:  185 Loss:  0.39513957500457764\n",
      "Batch:  186 Loss:  0.467836856842041\n",
      "Batch:  187 Loss:  0.4565924406051636\n",
      "Batch:  188 Loss:  0.30270636081695557\n",
      "Batch:  189 Loss:  0.30096396803855896\n",
      "Batch:  190 Loss:  0.41413524746894836\n",
      "Batch:  191 Loss:  0.3694731295108795\n",
      "Batch:  192 Loss:  0.34224873781204224\n",
      "Batch:  193 Loss:  0.33460548520088196\n",
      "Batch:  194 Loss:  0.311642050743103\n",
      "Batch:  195 Loss:  0.36204689741134644\n",
      "Batch:  196 Loss:  0.38846009969711304\n",
      "Batch:  197 Loss:  0.4034208059310913\n",
      "Batch:  198 Loss:  0.3347693979740143\n",
      "Batch:  199 Loss:  0.27979424595832825\n",
      "Batch:  200 Loss:  0.3874964416027069\n",
      "Batch:  201 Loss:  0.28688663244247437\n",
      "Epoch:  0 Epoch Loss:  250.64660793542862\n"
     ]
    }
   ],
   "source": [
    "# Defining the optimizer and loss function\n",
    "optimizer = torch.optim.Adam(model.parameters())\n",
    "criterion = nn.CrossEntropyLoss(ignore_index=0)\n",
    "\n",
    "# Training the model\n",
    "model.train()\n",
    "\n",
    "for epoch in range(1):\n",
    "    epoch_loss = 0\n",
    "    for iteration, batch in enumerate(train_dataloader):\n",
    "        source = batch[0].to(device)\n",
    "        target = batch[1].to(device)\n",
    "        source = source.permute(1, 0)\n",
    "        target = target.permute(1, 0)\n",
    "        optimizer.zero_grad()\n",
    "        output = model(source, target)\n",
    "        output =output.permute(1,2,0)\n",
    "        target = target.permute(1,0)\n",
    "        #print(output.shape, target.shape)\n",
    "        loss = criterion(output, target)\n",
    "        loss.backward()\n",
    "        optimizer.step()\n",
    "        epoch_loss += loss.item()\n",
    "        losses.append(loss.item())\n",
    "        print(\"Batch: \", iteration, \"Loss: \", loss.item())\n",
    "        if(iteration>200):\n",
    "            break\n",
    "    print(\"Epoch: \", epoch, \"Epoch Loss: \", epoch_loss)"
   ]
  },
  {
   "cell_type": "code",
   "execution_count": 281,
   "metadata": {},
   "outputs": [],
   "source": [
    "# Defining the optimizer and loss function\n",
    "optimizer = torch.optim.Adam(model.parameters())\n",
    "criterion = nn.CrossEntropyLoss(ignore_index=0)\n",
    "\n",
    "# Training the model with validation\n",
    "model.train()\n",
    "\n",
    "def train_and_validate(model, train_dataloader, dev_dataloader, criterion, optimizer, num_epochs=1,start_batch=0):\n",
    "    device = torch.device(\"cuda\" if torch.cuda.is_available() else \"cpu\")\n",
    "    model.to(device)\n",
    "    \n",
    "    for epoch in range(num_epochs):\n",
    "        # Training\n",
    "        model.train()\n",
    "        epoch_loss = 0\n",
    "        for iteration, batch in enumerate(train_dataloader):\n",
    "            if(iteration<start_batch):\n",
    "                continue\n",
    "            source = batch[0].to(device)\n",
    "            target = batch[1].to(device)\n",
    "            source = source.permute(1, 0)\n",
    "            target = target.permute(1, 0)\n",
    "            optimizer.zero_grad()\n",
    "            output = model(source, target)\n",
    "            output = output.permute(1, 2, 0)\n",
    "            target = target.permute(1, 0)\n",
    "            loss = criterion(output, target)\n",
    "            loss.backward()\n",
    "            optimizer.step()\n",
    "            epoch_loss += loss.item()\n",
    "            print(\"Epoch {}, Batch {}: Loss {}\".format(epoch, iteration, loss.item()))\n",
    "            if(iteration>50+start_batch):\n",
    "                break\n",
    "\n",
    "        # Validation\n",
    "        model.eval()\n",
    "        val_loss = 0\n",
    "        with torch.no_grad():\n",
    "            for val_batch in dev_dataloader:\n",
    "                if(iteration<start_batch):\n",
    "                    continue\n",
    "                val_source = val_batch[0].to(device)\n",
    "                val_target = val_batch[1].to(device)\n",
    "                val_source = val_source.permute(1, 0)\n",
    "                val_target = val_target.permute(1, 0)\n",
    "                val_output = model(val_source, val_target)\n",
    "                val_output = val_output.permute(1, 2, 0)\n",
    "                val_target = val_target.permute(1, 0)\n",
    "                val_loss += criterion(val_output, val_target).item()\n",
    "                if(iteration>50+start_batch):\n",
    "                    break\n",
    "\n",
    "        avg_val_loss = val_loss / len(dev_dataloader)\n",
    "        print(\"Epoch {}: Training Loss {}, Validation Loss {}\".format(epoch, epoch_loss, avg_val_loss))\n",
    "        \n",
    "    \n",
    "    print(\"Training and validation completed.\")\n"
   ]
  },
  {
   "cell_type": "code",
   "execution_count": 282,
   "metadata": {},
   "outputs": [
    {
     "name": "stdout",
     "output_type": "stream",
     "text": [
      "Epoch 0, Batch 250: Loss 0.2438480705022812\n",
      "Epoch 0, Batch 251: Loss 0.2998332977294922\n",
      "Epoch 0, Batch 252: Loss 0.10112271457910538\n",
      "Epoch 0, Batch 253: Loss 0.16473548114299774\n",
      "Epoch 0, Batch 254: Loss 0.29638510942459106\n",
      "Epoch 0, Batch 255: Loss 0.273607462644577\n",
      "Epoch 0, Batch 256: Loss 0.15211792290210724\n",
      "Epoch 0, Batch 257: Loss 0.12065649777650833\n",
      "Epoch 0, Batch 258: Loss 0.2108355462551117\n",
      "Epoch 0, Batch 259: Loss 0.19890575110912323\n",
      "Epoch 0, Batch 260: Loss 0.24561873078346252\n",
      "Epoch 0, Batch 261: Loss 0.24322029948234558\n",
      "Epoch 0, Batch 262: Loss 0.12531131505966187\n",
      "Epoch 0, Batch 263: Loss 0.21521860361099243\n",
      "Epoch 0, Batch 264: Loss 0.16767185926437378\n",
      "Epoch 0, Batch 265: Loss 0.187087744474411\n",
      "Epoch 0, Batch 266: Loss 0.19754044711589813\n",
      "Epoch 0, Batch 267: Loss 0.19109122455120087\n",
      "Epoch 0, Batch 268: Loss 0.4307359755039215\n",
      "Epoch 0, Batch 269: Loss 0.16546674072742462\n",
      "Epoch 0, Batch 270: Loss 0.25422587990760803\n",
      "Epoch 0, Batch 271: Loss 0.18303129076957703\n",
      "Epoch 0, Batch 272: Loss 0.20468857884407043\n",
      "Epoch 0, Batch 273: Loss 0.19719791412353516\n",
      "Epoch 0, Batch 274: Loss 0.22202149033546448\n",
      "Epoch 0, Batch 275: Loss 0.17059943079948425\n",
      "Epoch 0, Batch 276: Loss 0.12873266637325287\n",
      "Epoch 0, Batch 277: Loss 0.20358631014823914\n",
      "Epoch 0, Batch 278: Loss 0.23877272009849548\n",
      "Epoch 0, Batch 279: Loss 0.18500350415706635\n",
      "Epoch 0, Batch 280: Loss 0.10346698015928268\n",
      "Epoch 0, Batch 281: Loss 0.21449454128742218\n",
      "Epoch 0, Batch 282: Loss 0.1797558069229126\n",
      "Epoch 0, Batch 283: Loss 0.1102607324719429\n",
      "Epoch 0, Batch 284: Loss 0.22815637290477753\n",
      "Epoch 0, Batch 285: Loss 0.17956553399562836\n",
      "Epoch 0, Batch 286: Loss 0.24015510082244873\n",
      "Epoch 0, Batch 287: Loss 0.18286414444446564\n",
      "Epoch 0, Batch 288: Loss 0.20715853571891785\n",
      "Epoch 0, Batch 289: Loss 0.21382255852222443\n",
      "Epoch 0, Batch 290: Loss 0.10752369463443756\n",
      "Epoch 0, Batch 291: Loss 0.14493513107299805\n",
      "Epoch 0, Batch 292: Loss 0.12575821578502655\n",
      "Epoch 0, Batch 293: Loss 0.1618679314851761\n",
      "Epoch 0, Batch 294: Loss 0.19900497794151306\n",
      "Epoch 0, Batch 295: Loss 0.14031484723091125\n",
      "Epoch 0, Batch 296: Loss 0.14755776524543762\n",
      "Epoch 0, Batch 297: Loss 0.21036294102668762\n",
      "Epoch 0, Batch 298: Loss 0.14679937064647675\n",
      "Epoch 0, Batch 299: Loss 0.14655683934688568\n",
      "Epoch 0, Batch 300: Loss 0.1676301658153534\n",
      "Epoch 0, Batch 301: Loss 0.14359085261821747\n",
      "Epoch 0: Training Loss 9.920473620295525, Validation Loss 3.138114154758432e-05\n",
      "Training and validation completed.\n"
     ]
    }
   ],
   "source": [
    "lr = 0.0001\n",
    "optimizer = torch.optim.AdamW(model.parameters(), lr=lr, weight_decay=0.01)\n",
    "# Training the model with validation\n",
    "train_and_validate(model, train_dataloader, dev_dataloader, criterion, optimizer, num_epochs=1,start_batch=250)"
   ]
  },
  {
   "cell_type": "code",
   "execution_count": 302,
   "metadata": {},
   "outputs": [
    {
     "name": "stdout",
     "output_type": "stream",
     "text": [
      "Epoch 0, Batch 850: Loss 0.22161559760570526\n",
      "Epoch 0, Batch 851: Loss 0.2637843191623688\n",
      "Epoch 0, Batch 852: Loss 0.24636022746562958\n",
      "Epoch 0, Batch 853: Loss 0.20395205914974213\n",
      "Epoch 0, Batch 854: Loss 0.2318381518125534\n",
      "Epoch 0, Batch 855: Loss 0.4024686813354492\n",
      "Epoch 0, Batch 856: Loss 0.1967153400182724\n",
      "Epoch 0, Batch 857: Loss 0.19964905083179474\n",
      "Epoch 0, Batch 858: Loss 0.33360111713409424\n",
      "Epoch 0, Batch 859: Loss 0.1472471058368683\n",
      "Epoch 0, Batch 860: Loss 0.2722756862640381\n",
      "Epoch 0, Batch 861: Loss 0.49929511547088623\n",
      "Epoch 0, Batch 862: Loss 0.3316223621368408\n",
      "Epoch 0, Batch 863: Loss 0.23163297772407532\n",
      "Epoch 0, Batch 864: Loss 0.2570507526397705\n",
      "Epoch 0, Batch 865: Loss 0.19831612706184387\n",
      "Epoch 0, Batch 866: Loss 0.3071790337562561\n",
      "Epoch 0, Batch 867: Loss 0.277299165725708\n",
      "Epoch 0, Batch 868: Loss 0.2410041242837906\n",
      "Epoch 0, Batch 869: Loss 0.41084542870521545\n",
      "Epoch 0, Batch 870: Loss 0.32917049527168274\n",
      "Epoch 0, Batch 871: Loss 0.3802376389503479\n",
      "Epoch 0, Batch 872: Loss 0.26763200759887695\n",
      "Epoch 0, Batch 873: Loss 0.2749725580215454\n",
      "Epoch 0, Batch 874: Loss 0.21447983384132385\n",
      "Epoch 0, Batch 875: Loss 0.31680071353912354\n",
      "Epoch 0, Batch 876: Loss 0.20259279012680054\n",
      "Epoch 0, Batch 877: Loss 0.18177823722362518\n",
      "Epoch 0, Batch 878: Loss 0.1605021059513092\n",
      "Epoch 0, Batch 879: Loss 0.2173905074596405\n",
      "Epoch 0, Batch 880: Loss 0.23867902159690857\n",
      "Epoch 0, Batch 881: Loss 0.2399468570947647\n",
      "Epoch 0, Batch 882: Loss 0.23041218519210815\n",
      "Epoch 0, Batch 883: Loss 0.15832220017910004\n",
      "Epoch 0, Batch 884: Loss 0.25485801696777344\n",
      "Epoch 0, Batch 885: Loss 0.2191890925168991\n",
      "Epoch 0, Batch 886: Loss 0.17565356194972992\n",
      "Epoch 0, Batch 887: Loss 0.2421562522649765\n",
      "Epoch 0, Batch 888: Loss 0.21714980900287628\n",
      "Epoch 0, Batch 889: Loss 0.28284937143325806\n",
      "Epoch 0, Batch 890: Loss 0.1782693713903427\n",
      "Epoch 0, Batch 891: Loss 0.31126904487609863\n",
      "Epoch 0, Batch 892: Loss 0.18109063804149628\n",
      "Epoch 0, Batch 893: Loss 0.5241895914077759\n",
      "Epoch 0, Batch 894: Loss 0.18658514320850372\n",
      "Epoch 0, Batch 895: Loss 0.24318109452724457\n",
      "Epoch 0, Batch 896: Loss 0.3076145052909851\n",
      "Epoch 0, Batch 897: Loss 0.221725732088089\n",
      "Epoch 0, Batch 898: Loss 0.1745198518037796\n",
      "Epoch 0, Batch 899: Loss 0.3232629597187042\n",
      "Epoch 0, Batch 900: Loss 0.21944448351860046\n",
      "Epoch 0, Batch 901: Loss 0.1515297144651413\n",
      "Epoch 0: Training Loss 13.301207810640335, Validation Loss 3.965036400427152e-05\n",
      "Training and validation completed.\n"
     ]
    }
   ],
   "source": [
    "lr = 0.00001\n",
    "optimizer = torch.optim.AdamW(model.parameters(), lr=lr, weight_decay=1e-7,amsgrad=True)\n",
    "# Training the model with validation\n",
    "train_and_validate(model, train_dataloader, dev_dataloader, criterion, optimizer, num_epochs=1,start_batch=850)"
   ]
  },
  {
   "cell_type": "code",
   "execution_count": 215,
   "metadata": {},
   "outputs": [],
   "source": [
    "\n",
    "def calculate_log_perplexity(model, dataloader):\n",
    "    model.eval()\n",
    "    total_log_prob = 0.0\n",
    "    total_words = 0\n",
    "\n",
    "    with torch.no_grad():\n",
    "        i=0\n",
    "        for inputs, targets in dataloader:\n",
    "            # Assuming inputs are sequences of words and targets are the next words\n",
    "            inputs = inputs.to(device)\n",
    "            targets = targets.to(device)\n",
    "            inputs = inputs.permute(1, 0)\n",
    "            targets = targets.permute(1, 0)\n",
    "            \n",
    "            outputs = model(inputs, targets)\n",
    "            log_probs = F.log_softmax(outputs, dim=-1)\n",
    "            selected_log_probs = log_probs.gather(2, targets.unsqueeze(2)).squeeze(2)\n",
    "\n",
    "            total_log_prob += selected_log_probs.sum().item()\n",
    "            total_words += targets.numel()\n",
    "            i+=1\n",
    "            if(i>100):\n",
    "                break\n",
    "\n",
    "    log_perplexity = -total_log_prob / total_words\n",
    "    return np.log10(log_perplexity)"
   ]
  },
  {
   "cell_type": "code",
   "execution_count": 299,
   "metadata": {},
   "outputs": [
    {
     "name": "stdout",
     "output_type": "stream",
     "text": [
      "0.42907335769696986\n"
     ]
    }
   ],
   "source": [
    "perplexity = calculate_log_perplexity(model, test_dataloader)\n",
    "print(perplexity)"
   ]
  },
  {
   "cell_type": "code",
   "execution_count": 24,
   "metadata": {},
   "outputs": [
    {
     "name": "stdout",
     "output_type": "stream",
     "text": [
      "|===========================================================================|\n",
      "|                  PyTorch CUDA memory summary, device ID 0                 |\n",
      "|---------------------------------------------------------------------------|\n",
      "|            CUDA OOMs: 0            |        cudaMalloc retries: 0         |\n",
      "|===========================================================================|\n",
      "|        Metric         | Cur Usage  | Peak Usage | Tot Alloc  | Tot Freed  |\n",
      "|---------------------------------------------------------------------------|\n",
      "| Allocated memory      |  66419 KiB |   2607 MiB |   5083 GiB |   5083 GiB |\n",
      "|       from large pool |  48248 KiB |   2556 MiB |   5028 GiB |   5028 GiB |\n",
      "|       from small pool |  18171 KiB |     50 MiB |     54 GiB |     54 GiB |\n",
      "|---------------------------------------------------------------------------|\n",
      "| Active memory         |  66419 KiB |   2607 MiB |   5083 GiB |   5083 GiB |\n",
      "|       from large pool |  48248 KiB |   2556 MiB |   5028 GiB |   5028 GiB |\n",
      "|       from small pool |  18171 KiB |     50 MiB |     54 GiB |     54 GiB |\n",
      "|---------------------------------------------------------------------------|\n",
      "| Requested memory      |  65216 KiB |   2499 MiB |   4920 GiB |   4920 GiB |\n",
      "|       from large pool |  47048 KiB |   2449 MiB |   4865 GiB |   4865 GiB |\n",
      "|       from small pool |  18168 KiB |     49 MiB |     54 GiB |     54 GiB |\n",
      "|---------------------------------------------------------------------------|\n",
      "| GPU reserved memory   |   2674 MiB |   2674 MiB |   2674 MiB |      0 B   |\n",
      "|       from large pool |   2622 MiB |   2622 MiB |   2622 MiB |      0 B   |\n",
      "|       from small pool |     52 MiB |     52 MiB |     52 MiB |      0 B   |\n",
      "|---------------------------------------------------------------------------|\n",
      "| Non-releasable memory |  81037 KiB | 150258 KiB |   1592 GiB |   1591 GiB |\n",
      "|       from large pool |  68488 KiB | 141507 KiB |   1533 GiB |   1533 GiB |\n",
      "|       from small pool |  12549 KiB |  26088 KiB |     58 GiB |     58 GiB |\n",
      "|---------------------------------------------------------------------------|\n",
      "| Allocations           |      94    |    6126    |    3393 K  |    3393 K  |\n",
      "|       from large pool |      13    |    1067    |     828 K  |     828 K  |\n",
      "|       from small pool |      81    |    5061    |    2565 K  |    2565 K  |\n",
      "|---------------------------------------------------------------------------|\n",
      "| Active allocs         |      94    |    6126    |    3393 K  |    3393 K  |\n",
      "|       from large pool |      13    |    1067    |     828 K  |     828 K  |\n",
      "|       from small pool |      81    |    5061    |    2565 K  |    2565 K  |\n",
      "|---------------------------------------------------------------------------|\n",
      "| GPU reserved segments |     150    |     150    |     150    |       0    |\n",
      "|       from large pool |     124    |     124    |     124    |       0    |\n",
      "|       from small pool |      26    |      26    |      26    |       0    |\n",
      "|---------------------------------------------------------------------------|\n",
      "| Non-releasable allocs |      37    |     445    |    1546 K  |    1546 K  |\n",
      "|       from large pool |       5    |       9    |     285 K  |     285 K  |\n",
      "|       from small pool |      32    |     440    |    1261 K  |    1261 K  |\n",
      "|---------------------------------------------------------------------------|\n",
      "| Oversize allocations  |       0    |       0    |       0    |       0    |\n",
      "|---------------------------------------------------------------------------|\n",
      "| Oversize GPU segments |       0    |       0    |       0    |       0    |\n",
      "|===========================================================================|\n",
      "\n"
     ]
    }
   ],
   "source": [
    "print(torch.cuda.memory_summary(device=None, abbreviated=False))"
   ]
  },
  {
   "cell_type": "code",
   "execution_count": 305,
   "metadata": {},
   "outputs": [
    {
     "data": {
      "image/png": "[encoded data removed]",
      "text/plain": [
       "<Figure size 640x480 with 1 Axes>"
      ]
     },
     "metadata": {},
     "output_type": "display_data"
    }
   ],
   "source": [
    "# Plotting the loss curve\n",
    "plt.plot(losses)\n",
    "plt.xlabel('Batch')\n",
    "plt.ylabel('Loss')\n",
    "plt.show()\n"
   ]
  },
  {
   "cell_type": "code",
   "execution_count": 294,
   "metadata": {},
   "outputs": [
    {
     "data": {
      "text/plain": [
       "Seq2Seq(\n",
       "  (encoder): Encoder(\n",
       "    (embed): Embedding(89, 256)\n",
       "    (gru): GRU(256, 256, num_layers=2, dropout=0.5, bidirectional=True)\n",
       "  )\n",
       "  (decoder): Decoder(\n",
       "    (embed): Embedding(47, 256)\n",
       "    (dropout): Dropout(p=0.5, inplace=True)\n",
       "    (attention): Attention(\n",
       "      (attn): Linear(in_features=512, out_features=256, bias=True)\n",
       "    )\n",
       "    (gru): GRU(512, 256, num_layers=2, dropout=0.5)\n",
       "    (out): Linear(in_features=512, out_features=47, bias=True)\n",
       "  )\n",
       ")"
      ]
     },
     "execution_count": 294,
     "metadata": {},
     "output_type": "execute_result"
    }
   ],
   "source": [
    "# Saving the model\n",
    "torch.save(model.state_dict(), 'model1.pth')\n",
    "\n",
    "# Loading the model\n",
    "model.load_state_dict(torch.load('model1.pth'))\n",
    "model.eval()\n",
    "\n"
   ]
  },
  {
   "cell_type": "code",
   "execution_count": 173,
   "metadata": {},
   "outputs": [],
   "source": [
    "# Implementing the greedy search\n",
    "def greedy_search(model, source, max_len, start_symbol):\n",
    "    with torch.no_grad():\n",
    "        source = source.to(device)\n",
    "        source = source.permute(1, 0)\n",
    "        encoder_output, hidden = model.encoder(source)\n",
    "        hidden = hidden[:model.decoder.n_layers]\n",
    "        output = Variable(torch.ones(1, 1).fill_(start_symbol)).long().to(device)\n",
    "        output =output.squeeze(0)\n",
    "        sentence = []\n",
    "        for t in range(max_len):\n",
    "           # print(output.shape, hidden.shape, encoder_output.shape)\n",
    "            output, hidden, attn_weights = model.decoder(\n",
    "                    output, hidden, encoder_output)\n",
    "            predicted = output.max(1)[1]\n",
    "            sentence.append(predicted.item())\n",
    "            output = Variable(predicted)\n",
    "        return sentence"
   ]
  },
  {
   "cell_type": "code",
   "execution_count": 200,
   "metadata": {},
   "outputs": [
    {
     "name": "stdout",
     "output_type": "stream",
     "text": [
      "torch.Size([4, 376])\n",
      "{\"encoding\": {\"y\": {\"field\": \"str2\", \"type\": \"nominal\", \"primitiveType\": \"string\", \"selected\": true}, \"x\": {\"field\": \"num2\", \"type\": \"quantitative\", \"bin\": true}, \"x\": {\"field\": \"num2\", \"type\": \"quantitative\", \"bin\": true}, \"x\": {\"field\": \"num2\", \"type\": \"quantitative\", \"bin\": true}, \"x\": {\"field\": \"*\", \"aggregate\": \"count\", \"type\": \"quantitative\"}}, \"mark\": \"bar\"}<eos> \"x\": {\"field\": \"*\", \"aggregate\": \"count\", \"type\": \"quantitative\"}}, \"mark\": \"bar\"}<eos> \"x\": {\"field\": \"*\", \"aggregate\": \"count\", \"type\n",
      "\n",
      "<sos>{\"encoding\": {\"x\": {\"field\": \"str4\", \"type\": \"nominal\", \"primitiveType\": \"string\", \"selected\": true}, \"y\": {\"field\": \"num3\", \"type\": \"quantitative\", \"aggregate\": \"mean\"}}, \"mark\": \"circle\"}<eos><pad><pad><pad><pad><pad><pad><pad><pad><pad><pad><pad><pad><pad><pad><pad><pad><pad><pad><pad><pad><pad><pad><pad><pad><pad><pad><pad><pad><pad><pad><pad><pad><pad><pad><pad><pad><pad><pad><pad><pad><pad><pad><pad><pad><pad><pad><pad><pad><pad><pad><pad><pad><pad><pad><pad><pad><pad><pad><pad><pad><pad><pad><pad><pad><pad><pad><pad><pad><pad><pad><pad><pad><pad><pad>"
     ]
    }
   ],
   "source": [
    "batch = next(iter(test_dataloader))\n",
    "source = batch[0].to(device)\n",
    "target = batch[1].to(device)\n",
    "\n",
    "print(source.shape)\n",
    "# Testing the model\n",
    "outputs = greedy_search(model, source[0].unsqueeze(0), 500, target_vocab.char2idx['<sos>'])\n",
    "\n",
    "for i in range(len(outputs)):\n",
    "    print(target_vocab.idx2char[outputs[i]], end='')\n",
    "# Printing the target\n",
    "print(\"\\n\")\n",
    "for i in range(len(target[0])):\n",
    "    print(target_vocab.idx2char[target[0][i].item()], end='')\n"
   ]
  },
  {
   "cell_type": "code",
   "execution_count": 211,
   "metadata": {},
   "outputs": [],
   "source": [
    "import torch\n",
    "from torch.autograd import Variable\n",
    "\n",
    "def beam_search(model, source, max_len, start_symbol, beam_width=15):\n",
    "    with torch.no_grad():\n",
    "        source = source.to(device)\n",
    "        source = source.permute(1, 0)\n",
    "        encoder_output, hidden = model.encoder(source)\n",
    "        hidden = hidden[:model.decoder.n_layers]\n",
    "        output = Variable(torch.ones(1, 1).fill_(start_symbol)).long().to(device)\n",
    "        output = output.squeeze(0)\n",
    "\n",
    "        # Initialize beams for each sequence in the batch\n",
    "        beams = [{'tokens': [start_symbol],\n",
    "                  'score': 0.0,\n",
    "                  'hidden': hidden,\n",
    "                  'output': output} for _ in range(source.size(1))]\n",
    "\n",
    "        for t in range(max_len):\n",
    "            all_candidates = []\n",
    "\n",
    "            for i, beam in enumerate(beams):\n",
    "                current_token = Variable(torch.tensor([[beam['tokens'][-1]]])).to(device)\n",
    "                current_hidden = beam['hidden']\n",
    "                current_output = beam['output']\n",
    "\n",
    "                # Decode the current token\n",
    "                current_token = current_token.squeeze(0)\n",
    "                output, hidden, attn_weights = model.decoder(\n",
    "                    current_token, current_hidden, encoder_output)\n",
    "\n",
    "                # Get the log probabilities for the next token\n",
    "                log_probs = torch.log_softmax(output, dim=1)\n",
    "                top_log_probs, top_tokens = torch.topk(log_probs, beam_width, dim=1)\n",
    "\n",
    "                for j in range(beam_width):\n",
    "                    candidate_token = top_tokens[0, j].item()\n",
    "                    log_prob = top_log_probs[0, j].item()\n",
    "\n",
    "                    candidate = {\n",
    "                        'tokens': beam['tokens'] + [candidate_token],\n",
    "                        'score': beam['score'] + log_prob,\n",
    "                        'hidden': hidden,\n",
    "                        'output': Variable(torch.tensor([[candidate_token]])).to(device)\n",
    "                    }\n",
    "\n",
    "                    all_candidates.append(candidate)\n",
    "\n",
    "            # Sort the candidates by their scores\n",
    "            ordered_candidates = sorted(all_candidates, key=lambda x: x['score'], reverse=True)\n",
    "\n",
    "            # Select the top beam_width candidates for each sequence in the batch\n",
    "            beams = [ordered_candidates[j] for j in range(beam_width)]\n",
    "\n",
    "        # Return the tokens of the top beam_width beams for each sequence in the batch\n",
    "        top_beams_tokens = [beam['tokens'] for beam in beams]\n",
    "        return top_beams_tokens\n"
   ]
  },
  {
   "cell_type": "code",
   "execution_count": 214,
   "metadata": {},
   "outputs": [
    {
     "name": "stdout",
     "output_type": "stream",
     "text": [
      "torch.Size([4, 376])\n",
      "<sos>{\"encoding\": {\"y\": {\"field\": \"str2\", \"type\": \"nominal\", \"primitiveType\": \"string\", \"selected\": true}, \"x\": {\"field\": \"num2\", \"type\": \"quantitative\", \"bin\": true}, \"x\": {\"field\": \"*\", \"aggregate\": \"count\", \"type\": \"quantitative\", \"bin\": true}, \"x\": {\"field\": \"*\", \"aggregate\": \"count\", \"type\": \"quantitative\", \"bin\": true}, \"x\": {\"field\": \"*\", \"aggregate\": \"count\", \"type\": \"quantitative\", \"bin\": true}, \"x\": {\"field\": \"*\", \"aggregate\": \"count\", \"type\": \"quantitative\", \"bin\": true}, \"x\": {\"field\": \"*\n",
      "\n",
      "<sos>{\"encoding\": {\"x\": {\"field\": \"str8\", \"type\": \"nominal\", \"primitiveType\": \"string\", \"selected\": true}, \"y\": {\"field\": \"num1\", \"type\": \"quantitative\", \"bin\": true}, \"size\": {\"field\": \"*\", \"aggregate\": \"count\", \"type\": \"quantitative\"}}, \"mark\": \"point\"}<eos><pad><pad><pad><pad><pad><pad><pad><pad><pad><pad><pad><pad><pad>"
     ]
    }
   ],
   "source": [
    "batch = next(iter(test_dataloader))\n",
    "source = batch[0].to(device)\n",
    "target = batch[1].to(device)\n",
    "\n",
    "print(source.shape)\n",
    "# Testing the model\n",
    "outputs = beam_search(model, source[0].unsqueeze(0), 500, target_vocab.char2idx['<sos>'])\n",
    "# Print the best beam\n",
    "for i in range(len(outputs[0])):\n",
    "    print(target_vocab.idx2char[outputs[0][i]], end='')\n",
    "\n",
    "# Printing the target\n",
    "print(\"\\n\")\n",
    "for i in range(len(target[0])):\n",
    "    print(target_vocab.idx2char[target[0][i].item()], end='')\n"
   ]
  },
  {
   "cell_type": "code",
   "execution_count": 213,
   "metadata": {},
   "outputs": [
    {
     "name": "stdout",
     "output_type": "stream",
     "text": [
      "\n",
      "\n",
      "<sos>{\"encoding\": {\"y\": {\"field\": \"str1\", \"type\": \"nominal\", \"primitiveType\": \"string\", \"selected\": true}, \"x\": {\"field\": \"num2\", \"type\": \"quantitative\"}}, \"mark\": \"tick\"}<eos><pad><pad><pad><pad><pad><pad><pad><pad><pad><pad><pad><pad><pad><pad><pad><pad><pad><pad><pad><pad><pad><pad><pad><pad><pad><pad><pad><pad><pad><pad><pad><pad><pad><pad><pad><pad><pad><pad><pad><pad><pad><pad><pad><pad><pad><pad><pad><pad><pad><pad><pad><pad><pad><pad><pad><pad><pad><pad><pad><pad><pad><pad><pad><pad><pad><pad><pad><pad><pad><pad><pad><pad><pad><pad><pad><pad><pad><pad><pad><pad><pad><pad><pad><pad><pad><pad><pad><pad><pad><pad><pad><pad><pad><pad><pad><pad><pad>\n",
      "\n",
      "<sos>{\"encoding\": {\"y\": {\"field\": \"str2\", \"type\": \"nominal\", \"primitiveType\": \"string\", \"selected\": true}, \"x\": {\"field\": \"*\", \"aggregate\": \"count\", \"type\": \"quantitative\", \"bin\": true}, \"x\": {\"field\": \"*\", \"aggregate\": \"count\", \"type\": \"quantitative\", \"bin\": true}, \"x\": {\"field\": \"*\", \"aggregate\": \"count\", \"type\": \"quantitative\", \"bin\": true}, \"x\": {\"field\": \"*\", \"aggregate\": \"count\", \"type\": \"quantitative\", \"bin\": true}, \"x\": {\"field\": \"*\", \"aggregate\": \"count\", \"type\": \"quantitative\"}}, \"mark\": \"b\n",
      "\n",
      "<sos>{\"encoding\": {\"y\": {\"field\": \"str2\", \"type\": \"nominal\", \"primitiveType\": \"string\", \"selected\": true}, \"x\": {\"field\": \"*\", \"aggregate\": \"count\", \"type\": \"quantitative\", \"bin\": true}, \"x\": {\"field\": \"*\", \"aggregate\": \"count\", \"type\": \"quantitative\", \"bin\": true}, \"x\": {\"field\": \"*\", \"aggregate\": \"count\", \"type\": \"quantitative\", \"bin\": true}, \"x\": {\"field\": \"*\", \"aggregate\": \"count\", \"type\": \"quantitative\", \"bin\": true}, \"x\": {\"field\": \"*\", \"aggregate\": \"count\", \"type\": \"quantitative\", \"bin\": true}\n",
      "\n",
      "<sos>{\"encoding\": {\"y\": {\"field\": \"str2\", \"type\": \"nominal\", \"primitiveType\": \"string\", \"selected\": true}, \"x\": {\"field\": \"*\", \"aggregate\": \"count\", \"type\": \"quantitative\", \"bin\": true}, \"x\": {\"field\": \"*\", \"aggregate\": \"count\", \"type\": \"quantitative\", \"bin\": true}, \"x\": {\"field\": \"*\", \"aggregate\": \"count\", \"type\": \"quantitative\", \"bin\": true}, \"x\": {\"field\": \"*\", \"aggregate\": \"count\", \"type\": \"quantitative\", \"bin\": true}, \"y\": {\"field\": \"*\", \"aggregate\": \"count\", \"type\": \"quantitative\"}}, \"mark\": \"b\n",
      "\n",
      "<sos>{\"encoding\": {\"y\": {\"field\": \"str2\", \"type\": \"nominal\", \"primitiveType\": \"string\", \"selected\": true}, \"x\": {\"field\": \"*\", \"aggregate\": \"count\", \"type\": \"quantitative\", \"bin\": true}, \"x\": {\"field\": \"*\", \"aggregate\": \"count\", \"type\": \"quantitative\", \"bin\": true}, \"x\": {\"field\": \"*\", \"aggregate\": \"count\", \"type\": \"quantitative\", \"bin\": true}, \"y\": {\"field\": \"*\", \"aggregate\": \"count\", \"type\": \"quantitative\", \"bin\": true}, \"x\": {\"field\": \"*\", \"aggregate\": \"count\", \"type\": \"quantitative\"}}, \"mark\": \"b\n",
      "\n",
      "<sos>{\"encoding\": {\"y\": {\"field\": \"str2\", \"type\": \"nominal\", \"primitiveType\": \"string\", \"selected\": true}, \"x\": {\"field\": \"*\", \"aggregate\": \"count\", \"type\": \"quantitative\", \"bin\": true}, \"x\": {\"field\": \"*\", \"aggregate\": \"count\", \"type\": \"quantitative\", \"bin\": true}, \"y\": {\"field\": \"*\", \"aggregate\": \"count\", \"type\": \"quantitative\", \"bin\": true}, \"x\": {\"field\": \"*\", \"aggregate\": \"count\", \"type\": \"quantitative\", \"bin\": true}, \"x\": {\"field\": \"*\", \"aggregate\": \"count\", \"type\": \"quantitative\"}}, \"mark\": \"b\n",
      "\n",
      "<sos>{\"encoding\": {\"y\": {\"field\": \"str2\", \"type\": \"nominal\", \"primitiveType\": \"string\", \"selected\": true}, \"x\": {\"field\": \"*\", \"aggregate\": \"count\", \"type\": \"quantitative\", \"bin\": true}, \"y\": {\"field\": \"*\", \"aggregate\": \"count\", \"type\": \"quantitative\", \"bin\": true}, \"x\": {\"field\": \"*\", \"aggregate\": \"count\", \"type\": \"quantitative\", \"bin\": true}, \"x\": {\"field\": \"*\", \"aggregate\": \"count\", \"type\": \"quantitative\", \"bin\": true}, \"x\": {\"field\": \"*\", \"aggregate\": \"count\", \"type\": \"quantitative\"}}, \"mark\": \"b\n",
      "\n",
      "<sos>{\"encoding\": {\"y\": {\"field\": \"str2\", \"type\": \"nominal\", \"primitiveType\": \"string\", \"selected\": true}, \"x\": {\"field\": \"*\", \"aggregate\": \"count\", \"type\": \"quantitative\", \"bin\": true}, \"x\": {\"field\": \"*\", \"aggregate\": \"count\", \"type\": \"quantitative\", \"bin\": true}, \"x\": {\"field\": \"*\", \"aggregate\": \"count\", \"type\": \"quantitative\", \"bin\": true}, \"x\": {\"field\": \"*\", \"aggregate\": \"count\", \"type\": \"quantitative\", \"bin\": true}, \"x\": {\"field\": \"*\", \"aggregate\": \"count\", \"type\": \"quantitative\"}}, \"mark\": \"p\n",
      "\n",
      "<sos>{\"encoding\": {\"y\": {\"field\": \"str2\", \"type\": \"nominal\", \"primitiveType\": \"string\", \"selected\": true}, \"x\": {\"field\": \"*\", \"aggregate\": \"count\", \"type\": \"quantitative\", \"bin\": true}, \"x\": {\"field\": \"*\", \"aggregate\": \"count\", \"type\": \"quantitative\", \"bin\": true}, \"x\": {\"field\": \"*\", \"aggregate\": \"count\", \"type\": \"quantitative\", \"bin\": true}, \"x\": {\"field\": \"*\", \"aggregate\": \"count\", \"type\": \"quantitative\"}}, \"mark\": \"bar\"}<eos> \"x\": {\"field\": \"*\", \"aggregate\": \"count\", \"type\": \"quantitative\"}}, \"mark\"\n",
      "\n",
      "<sos>{\"encoding\": {\"y\": {\"field\": \"str2\", \"type\": \"nominal\", \"primitiveType\": \"string\", \"selected\": true}, \"x\": {\"field\": \"*\", \"aggregate\": \"count\", \"type\": \"quantitative\", \"bin\": true}, \"x\": {\"field\": \"*\", \"aggregate\": \"count\", \"type\": \"quantitative\", \"bin\": true}, \"x\": {\"field\": \"*\", \"aggregate\": \"count\", \"type\": \"quantitative\", \"bin\": true}, \"x\": {\"field\": \"*\", \"aggregate\": \"count\", \"type\": \"quantitative\", \"bin\": true}, \"y\": {\"field\": \"*\", \"aggregate\": \"count\", \"type\": \"quantitative\", \"bin\": true}\n",
      "\n",
      "<sos>{\"encoding\": {\"y\": {\"field\": \"str2\", \"type\": \"nominal\", \"primitiveType\": \"string\", \"selected\": true}, \"x\": {\"field\": \"*\", \"aggregate\": \"count\", \"type\": \"quantitative\", \"bin\": true}, \"x\": {\"field\": \"*\", \"aggregate\": \"count\", \"type\": \"quantitative\", \"bin\": true}, \"x\": {\"field\": \"*\", \"aggregate\": \"count\", \"type\": \"quantitative\", \"bin\": true}, \"y\": {\"field\": \"*\", \"aggregate\": \"count\", \"type\": \"quantitative\", \"bin\": true}, \"x\": {\"field\": \"*\", \"aggregate\": \"count\", \"type\": \"quantitative\", \"bin\": true}\n",
      "\n",
      "<sos>{\"encoding\": {\"y\": {\"field\": \"str2\", \"type\": \"nominal\", \"primitiveType\": \"string\", \"selected\": true}, \"x\": {\"field\": \"*\", \"aggregate\": \"count\", \"type\": \"quantitative\", \"bin\": true}, \"x\": {\"field\": \"*\", \"aggregate\": \"count\", \"type\": \"quantitative\", \"bin\": true}, \"y\": {\"field\": \"*\", \"aggregate\": \"count\", \"type\": \"quantitative\", \"bin\": true}, \"x\": {\"field\": \"*\", \"aggregate\": \"count\", \"type\": \"quantitative\", \"bin\": true}, \"x\": {\"field\": \"*\", \"aggregate\": \"count\", \"type\": \"quantitative\", \"bin\": true}\n",
      "\n",
      "<sos>{\"encoding\": {\"y\": {\"field\": \"str2\", \"type\": \"nominal\", \"primitiveType\": \"string\", \"selected\": true}, \"x\": {\"field\": \"*\", \"aggregate\": \"count\", \"type\": \"quantitative\", \"bin\": true}, \"y\": {\"field\": \"*\", \"aggregate\": \"count\", \"type\": \"quantitative\", \"bin\": true}, \"x\": {\"field\": \"*\", \"aggregate\": \"count\", \"type\": \"quantitative\", \"bin\": true}, \"x\": {\"field\": \"*\", \"aggregate\": \"count\", \"type\": \"quantitative\", \"bin\": true}, \"x\": {\"field\": \"*\", \"aggregate\": \"count\", \"type\": \"quantitative\", \"bin\": true}\n",
      "\n",
      "<sos>{\"encoding\": {\"y\": {\"field\": \"str2\", \"type\": \"nominal\", \"primitiveType\": \"string\", \"selected\": true}, \"x\": {\"field\": \"*\", \"aggregate\": \"count\", \"type\": \"quantitative\", \"bin\": true}, \"x\": {\"field\": \"*\", \"aggregate\": \"count\", \"type\": \"quantitative\", \"bin\": true}, \"x\": {\"field\": \"*\", \"aggregate\": \"count\", \"type\": \"quantitative\", \"bin\": true}, \"x\": {\"field\": \"*\", \"aggregate\": \"count\", \"type\": \"quantitative\"}}, \"mark\": \"bar\"}<eos> \"y\": {\"field\": \"*\", \"aggregate\": \"count\", \"type\": \"quantitative\"}}, \"mark\"\n",
      "\n",
      "<sos>{\"encoding\": {\"y\": {\"field\": \"str2\", \"type\": \"nominal\", \"primitiveType\": \"string\", \"selected\": true}, \"x\": {\"field\": \"*\", \"aggregate\": \"count\", \"type\": \"quantitative\", \"bin\": true}, \"x\": {\"field\": \"*\", \"aggregate\": \"count\", \"type\": \"quantitative\", \"bin\": true}, \"x\": {\"field\": \"*\", \"aggregate\": \"count\", \"type\": \"quantitative\", \"bin\": true}, \"y\": {\"field\": \"*\", \"aggregate\": \"count\", \"type\": \"quantitative\", \"bin\": true}, \"y\": {\"field\": \"*\", \"aggregate\": \"count\", \"type\": \"quantitative\"}}, \"mark\": \"b\n",
      "\n",
      "<sos>{\"encoding\": {\"y\": {\"field\": \"str2\", \"type\": \"nominal\", \"primitiveType\": \"string\", \"selected\": true}, \"x\": {\"field\": \"*\", \"aggregate\": \"count\", \"type\": \"quantitative\", \"bin\": true}, \"x\": {\"field\": \"*\", \"aggregate\": \"count\", \"type\": \"quantitative\", \"bin\": true}, \"x\": {\"field\": \"*\", \"aggregate\": \"count\", \"type\": \"quantitative\", \"bin\": true}, \"x\": {\"field\": \"*\", \"aggregate\": \"count\", \"type\": \"quantitative\", \"bin\": true}, \"y\": {\"field\": \"*\", \"aggregate\": \"count\", \"type\": \"quantitative\"}}, \"mark\": \"p\n",
      "\n"
     ]
    }
   ],
   "source": [
    "\n",
    "# Printing the target\n",
    "print(\"\\n\")\n",
    "for i in range(len(target[0])):\n",
    "    print(target_vocab.idx2char[target[0][i].item()], end='')\n",
    "\n",
    "print(\"\\n\")\n",
    "# Print the 15 outptus for the first sequence\n",
    "for i in range(15):\n",
    "    for j in range(len(outputs[i])):\n",
    "        print(target_vocab.idx2char[outputs[i][j]], end='')\n",
    "    print(\"\\n\")\n",
    "    "
   ]
  },
  {
   "cell_type": "code",
   "execution_count": 247,
   "metadata": {},
   "outputs": [],
   "source": [
    "# Load the data from ./data/progression.json\n",
    "\n",
    "import json\n",
    "with open('./data/progression.json') as f:\n",
    "    data = json.load(f)\n",
    "\n",
    "# Convert it to str\n",
    "data = [str(x) for x in data]\n",
    "# Make it a single string\n",
    "data = ' '.join(data)\n",
    "# Append [ to the beginning and ] to the end\n",
    "data = '[' + data + ']'"
   ]
  },
  {
   "cell_type": "code",
   "execution_count": 248,
   "metadata": {},
   "outputs": [
    {
     "data": {
      "text/plain": [
       "\"[{'year': '1912', 'race': '100m', 'Time': '0.176666666666667', 'Distance': '0.1'} {'year': '1921', 'race': '100m', 'Time': '0.173333333333333', 'Distance': '0.1'} {'year': '1930', 'race': '100m', 'Time': '0.171666666666667', 'Distance': '0.1'} {'year': '1936', 'race': '100m', 'Time': '0.17', 'Distance': '0.1'} {'year': '1956', 'race': '100m', 'Time': '0.168333333333333', 'Distance': '0.1'} {'year': '1960', 'race': '100m', 'Time': '0.166666666666667', 'Distance': '0.1'} {'year': '1968', 'race': '100m', 'Time': '0.165833333333333', 'Distance': '0.1'} {'year': '1983', 'race': '100m', 'Time': '0.1655', 'Distance': '0.1'} {'year': '1988', 'race': '100m', 'Time': '0.165333333333333', 'Distance': '0.1'} {'year': '1991', 'race': '100m', 'Time': '0.165', 'Distance': '0.1'} {'year': '1991', 'race': '100m', 'Time': '0.164333333333333', 'Distance': '0.1'} {'year': '1994', 'race': '100m', 'Time': '0.164166666666667', 'Distance': '0.1'} {'year': '1996', 'race': '100m', 'Time': '0.164', 'Distance': '0.1'} {'year': '1999', 'race': '100m', 'Time': '0.163166666666667', 'Distance': '0.1'} {'year': '2005', 'race': '100m', 'Time': '0.162833333333333', 'Distance': '0.1'} {'year': '2007', 'race': '100m', 'Time': '0.162333333333333', 'Distance': '0.1'} {'year': '2008', 'race': '100m', 'Time': '0.162', 'Distance': '0.1'} {'year': '2008', 'race': '100m', 'Time': '0.1615', 'Distance': '0.1'} {'year': '1914', 'race': '200m', 'Time': '0.353333333333333', 'Distance': '0.2'} {'year': '1951', 'race': '200m', 'Time': '0.343333333333333', 'Distance': '0.2'} {'year': '1960', 'race': '200m', 'Time': '0.341666666666667', 'Distance': '0.2'} {'year': '1963', 'race': '200m', 'Time': '0.338333333333333', 'Distance': '0.2'} {'year': '1964', 'race': '200m', 'Time': '0.336666666666667', 'Distance': '0.2'} {'year': '1968', 'race': '200m', 'Time': '0.333333333333333', 'Distance': '0.2'} {'year': '1968', 'race': '200m', 'Time': '0.33', 'Distance': '0.2'} {'year': '1979', 'race': '200m', 'Time': '0.328666666666667', 'Distance': '0.2'} {'year': '1996', 'race': '200m', 'Time': '0.327666666666667', 'Distance': '0.2'} {'year': '1996', 'race': '200m', 'Time': '0.322', 'Distance': '0.2'} {'year': '2008', 'race': '200m', 'Time': '0.321666666666667', 'Distance': '0.2'} {'year': '1999', 'race': '400m', 'Time': '0.719666666666667', 'Distance': '0.4'} {'year': '1988', 'race': '400m', 'Time': '0.7215', 'Distance': '0.4'} {'year': '1968', 'race': '400m', 'Time': '0.731', 'Distance': '0.4'} {'year': '1968', 'race': '400m', 'Time': '0.735', 'Distance': '0.4'} {'year': '1967', 'race': '400m', 'Time': '0.741666666666667', 'Distance': '0.4'} {'year': '1964', 'race': '400m', 'Time': '0.748333333333333', 'Distance': '0.4'} {'year': '1956', 'race': '400m', 'Time': '0.753333333333333', 'Distance': '0.4'} {'year': '1955', 'race': '400m', 'Time': '0.756666666666667', 'Distance': '0.4'} {'year': '1950', 'race': '400m', 'Time': '0.763333333333333', 'Distance': '0.4'} {'year': '1948', 'race': '400m', 'Time': '0.766666666666667', 'Distance': '0.4'} {'year': '1947', 'race': '400m', 'Time': '0.77', 'Distance': '0.4'} {'year': '1941', 'race': '400m', 'Time': '0.766666666666667', 'Distance': '0.4'} {'year': '1936', 'race': '400m', 'Time': '0.768333333333333', 'Distance': '0.4'} {'year': '1932', 'race': '400m', 'Time': '0.77', 'Distance': '0.4'} {'year': '1932', 'race': '400m', 'Time': '0.773333333333333', 'Distance': '0.4'} {'year': '1928', 'race': '400m', 'Time': '0.783333333333333', 'Distance': '0.4'} {'year': '1916', 'race': '400m', 'Time': '0.79', 'Distance': '0.4'} {'year': '1900', 'race': '400m', 'Time': '0.796666666666667', 'Distance': '0.4'} {'year': '1997', 'race': '800m', 'Time': '1.68516666666667', 'Distance': '0.8'} {'year': '1997', 'race': '800m', 'Time': '1.68733333333333', 'Distance': '0.8'} {'year': '1997', 'race': '800m', 'Time': '1.6955', 'Distance': '0.8'} {'year': '1979', 'race': '800m', 'Time': '1.7055', 'Distance': '0.8'} {'year': '1977', 'race': '800m', 'Time': '1.724', 'Distance': '0.8'} {'year': '1976', 'race': '800m', 'Time': '1.725', 'Distance': '0.8'} {'year': '1974', 'race': '800m', 'Time': '1.735', 'Distance': '0.8'} {'year': '1973', 'race': '800m', 'Time': '1.72833333333333', 'Distance': '0.8'} {'year': '1973', 'race': '800m', 'Time': '1.74333333333333', 'Distance': '0.8'} {'year': '1972', 'race': '800m', 'Time': '1.73833333333333', 'Distance': '0.8'} {'year': '1955', 'race': '800m', 'Time': '1.76166666666667', 'Distance': '0.8'} {'year': '1939', 'race': '800m', 'Time': '1.77666666666667', 'Distance': '0.8'} {'year': '1938', 'race': '800m', 'Time': '1.80666666666667', 'Distance': '0.8'} {'year': '1937', 'race': '800m', 'Time': '1.82666666666667', 'Distance': '0.8'} {'year': '1936', 'race': '800m', 'Time': '1.82833333333333', 'Distance': '0.8'} {'year': '1934', 'race': '800m', 'Time': '1.83', 'Distance': '0.8'} {'year': '1928', 'race': '800m', 'Time': '1.84333333333333', 'Distance': '0.8'} {'year': '1926', 'race': '800m', 'Time': '1.86', 'Distance': '0.8'} {'year': '1912', 'race': '800m', 'Time': '1.865', 'Distance': '0.8'} {'year': '1912', 'race': '1500m', 'Time': '3.94666666666667', 'Distance': '1.5'} {'year': '1912', 'race': '1500m', 'Time': '3.93', 'Distance': '1.5'} {'year': '1917', 'race': '1500m', 'Time': '3.91166666666667', 'Distance': '1.5'} {'year': '1923', 'race': '1500m', 'Time': '3.88333333333333', 'Distance': '1.5'} {'year': '1924', 'race': '1500m', 'Time': '3.87666666666667', 'Distance': '1.5'} {'year': '1926', 'race': '1500m', 'Time': '3.85', 'Distance': '1.5'} {'year': '1930', 'race': '1500m', 'Time': '3.82', 'Distance': '1.5'} {'year': '1933', 'race': '1500m', 'Time': '3.81666666666667', 'Distance': '1.5'} {'year': '1934', 'race': '1500m', 'Time': '3.81333333333333', 'Distance': '1.5'} {'year': '1936', 'race': '1500m', 'Time': '3.79666666666667', 'Distance': '1.5'} {'year': '1941', 'race': '1500m', 'Time': '3.79166666666667', 'Distance': '1.5'} {'year': '1942', 'race': '1500m', 'Time': '3.76333333333333', 'Distance': '1.5'} {'year': '1943', 'race': '1500m', 'Time': '3.74833333333333', 'Distance': '1.5'} {'year': '1944', 'race': '1500m', 'Time': '3.71666666666667', 'Distance': '1.5'} {'year': '1954', 'race': '1500m', 'Time': '3.71333333333333', 'Distance': '1.5'} {'year': '1954', 'race': '1500m', 'Time': '3.69666666666667', 'Distance': '1.5'} {'year': '1955', 'race': '1500m', 'Time': '3.68', 'Distance': '1.5'} {'year': '1956', 'race': '1500m', 'Time': '3.67666666666667', 'Distance': '1.5'} {'year': '1957', 'race': '1500m', 'Time': '3.67', 'Distance': '1.5'} {'year': '1957', 'race': '1500m', 'Time': '3.635', 'Distance': '1.5'} {'year': '1958', 'race': '1500m', 'Time': '3.6', 'Distance': '1.5'} {'year': '1960', 'race': '1500m', 'Time': '3.59333333333333', 'Distance': '1.5'} {'year': '1967', 'race': '1500m', 'Time': '3.55166666666667', 'Distance': '1.5'} {'year': '1974', 'race': '1500m', 'Time': '3.536', 'Distance': '1.5'} {'year': '1979', 'race': '1500m', 'Time': '3.53383333333333', 'Distance': '1.5'} {'year': '1980', 'race': '1500m', 'Time': '3.53483333333333', 'Distance': '1.5'} {'year': '1980', 'race': '1500m', 'Time': '3.52266666666667', 'Distance': '1.5'} {'year': '1983', 'race': '1500m', 'Time': '3.52066666666667', 'Distance': '1.5'} {'year': '1983', 'race': '1500m', 'Time': '3.51283333333333', 'Distance': '1.5'} {'year': '1985', 'race': '1500m', 'Time': '3.4945', 'Distance': '1.5'} {'year': '1985', 'race': '1500m', 'Time': '3.491', 'Distance': '1.5'} {'year': '1992', 'race': '1500m', 'Time': '3.481', 'Distance': '1.5'} {'year': '1995', 'race': '1500m', 'Time': '3.45616666666667', 'Distance': '1.5'} {'year': '1998', 'race': '1500m', 'Time': '3.43333333333333', 'Distance': '1.5'} {'year': '1913', 'race': 'Mile', 'Time': '4.24', 'Distance': '1.6093'} {'year': '1915', 'race': 'Mile', 'Time': '4.21', 'Distance': '1.6093'} {'year': '1923', 'race': 'Mile', 'Time': '4.17333333333333', 'Distance': '1.6093'} {'year': '1931', 'race': 'Mile', 'Time': '4.15333333333333', 'Distance': '1.6093'} {'year': '1933', 'race': 'Mile', 'Time': '4.12666666666667', 'Distance': '1.6093'} {'year': '1934', 'race': 'Mile', 'Time': '4.11166666666667', 'Distance': '1.6093'} {'year': '1937', 'race': 'Mile', 'Time': '4.10666666666667', 'Distance': '1.6093'} {'year': '1942', 'race': 'Mile', 'Time': '4.10166666666667', 'Distance': '1.6093'} {'year': '1942', 'race': 'Mile', 'Time': '4.10333333333333', 'Distance': '1.6093'} {'year': '1942', 'race': 'Mile', 'Time': '4.07666666666667', 'Distance': '1.6093'} {'year': '1943', 'race': 'Mile', 'Time': '4.04333333333333', 'Distance': '1.6093'} {'year': '1944', 'race': 'Mile', 'Time': '4.02666666666667', 'Distance': '1.6093'} {'year': '1945', 'race': 'Mile', 'Time': '4.02166666666667', 'Distance': '1.6093'} {'year': '1954', 'race': 'Mile', 'Time': '3.99', 'Distance': '1.6093'} {'year': '1954', 'race': 'Mile', 'Time': '3.965', 'Distance': '1.6093'} {'year': '1957', 'race': 'Mile', 'Time': '3.95333333333333', 'Distance': '1.6093'} {'year': '1958', 'race': 'Mile', 'Time': '3.90833333333333', 'Distance': '1.6093'} {'year': '1962', 'race': 'Mile', 'Time': '3.90666666666667', 'Distance': '1.6093'} {'year': '1964', 'race': 'Mile', 'Time': '3.9005', 'Distance': '1.6093'} {'year': '1965', 'race': 'Mile', 'Time': '3.89333333333333', 'Distance': '1.6093'} {'year': '1966', 'race': 'Mile', 'Time': '3.855', 'Distance': '1.6093'} {'year': '1967', 'race': 'Mile', 'Time': '3.85166666666667', 'Distance': '1.6093'} {'year': '1975', 'race': 'Mile', 'Time': '3.85', 'Distance': '1.6093'} {'year': '1975', 'race': 'Mile', 'Time': '3.82333333333333', 'Distance': '1.6093'} {'year': '1979', 'race': 'Mile', 'Time': '3.81583333333333', 'Distance': '1.6093'} {'year': '1980', 'race': 'Mile', 'Time': '3.81333333333333', 'Distance': '1.6093'} {'year': '1981', 'race': 'Mile', 'Time': '3.80883333333333', 'Distance': '1.6093'} {'year': '1981', 'race': 'Mile', 'Time': '3.80666666666667', 'Distance': '1.6093'} {'year': '1981', 'race': 'Mile', 'Time': '3.78883333333333', 'Distance': '1.6093'} {'year': '1985', 'race': 'Mile', 'Time': '3.772', 'Distance': '1.6093'} {'year': '1993', 'race': 'Mile', 'Time': '3.73983333333333', 'Distance': '1.6093'} {'year': '1999', 'race': 'Mile', 'Time': '3.71883333333333', 'Distance': '1.6093'} {'year': '1912', 'race': '3000m', 'Time': '8.77666666666667', 'Distance': '3'} {'year': '1912', 'race': '3000m', 'Time': '8.61333333333333', 'Distance': '3'} {'year': '1917', 'race': '3000m', 'Time': '8.595', 'Distance': '3'} {'year': '1918', 'race': '3000m', 'Time': '8.58', 'Distance': '3'} {'year': '1918', 'race': '3000m', 'Time': '8.55166666666667', 'Distance': '3'} {'year': '1922', 'race': '3000m', 'Time': '8.47666666666667', 'Distance': '3'} {'year': '1923', 'race': '3000m', 'Time': '8.46333333333333', 'Distance': '3'} {'year': '1925', 'race': '3000m', 'Time': '8.45833333333333', 'Distance': '3'} {'year': '1926', 'race': '3000m', 'Time': '8.42333333333333', 'Distance': '3'} {'year': '1926', 'race': '3000m', 'Time': '8.34', 'Distance': '3'} {'year': '1932', 'race': '3000m', 'Time': '8.31333333333333', 'Distance': '3'} {'year': '1934', 'race': '3000m', 'Time': '8.30666666666667', 'Distance': '3'} {'year': '1936', 'race': '3000m', 'Time': '8.24666666666667', 'Distance': '3'} {'year': '1940', 'race': '3000m', 'Time': '8.15', 'Distance': '3'} {'year': '1942', 'race': '3000m', 'Time': '8.02', 'Distance': '3'} {'year': '1949', 'race': '3000m', 'Time': '7.97833333333333', 'Distance': '3'} {'year': '1955', 'race': '3000m', 'Time': '7.92666666666667', 'Distance': '3'} {'year': '1956', 'race': '3000m', 'Time': '7.925', 'Distance': '3'}]\""
      ]
     },
     "execution_count": 248,
     "metadata": {},
     "output_type": "execute_result"
    }
   ],
   "source": [
    "data"
   ]
  },
  {
   "cell_type": "code",
   "execution_count": 265,
   "metadata": {},
   "outputs": [],
   "source": [
    "# Create dataset item\n",
    "data_target = data[1:]\n",
    "\n",
    "progression_dataset=Dataset([data], [data_target], source_vocab, target_vocab, len(data), len(data_target))\n",
    "\n",
    "progression_dataloader = torch.utils.data.DataLoader(progression_dataset, batch_size=1, shuffle=True)"
   ]
  },
  {
   "cell_type": "code",
   "execution_count": 308,
   "metadata": {},
   "outputs": [
    {
     "name": "stdout",
     "output_type": "stream",
     "text": [
      "torch.Size([1, 11616])\n",
      "{\"encoding\": {\"y\": {\"field\": \"num5\", \"type\": \"quantitative\", \"bin\": true}, \"y\": {\"field\": \"*um5\", \"type\": \"quantitative\", \"bin\": true}, \"y\": {\"field\": \"*um5\", \"type\": \"quantitative\", \"bin\": true}, \"y\": {\"field\": \"*um5\", \"type\": \"quantitative\", \"bin\": true}, \"y\": {\"field\": \"*um5\", \"type\": \"quantitative\", \"bin\": true}, \"y\": {\"field\": \"*um5\", \"type\": \"quantitative\", \"bin\": true}, \"y\": {\"field\": \"*um5\", \"type\": \"quantitative\", \"bin\": true}, \"y\": {\"field\": \"*um5\", \"type\": \"quantitative\", \"bin\": true}, \"y\": {\"field\": \"*um5\", \"type\": \"quantitative\", \"bin\": true}, \"y\": {\"field\": \"*um5\", \"type\": \"quantitative\", \"bin\": true}, \"y\": {\"field\": \"*um5\", \"type\": \"quantitative\", \"bin\": true}, \"y\": {\"field\": \"*um5\", \"type\": \"quantitative\", \"bin\": true}, \"y\": {\"field\": \"*um5\", \"type\": \"quantitative\", \"bin\": true}, \"y\": {\"field\": \"*um5\", \"type\": \"quantitative\", \"bin\": true}, \"y\": {\"field\": \"*um5\", \"type\": \"quantitative\", \"bin\": true}, \"y\": {\"field\": \"*um5\", \"type\": \"quantitative\", \"bin\": true}, \"y\": {\"field\": \"*um5\", \"type\": \"quantitative\", \"bin\": true}, \"y\": {\"field\": \"*um5\", \"type\": \"quantitative\", \"bin\": true}, \"y\": {\"field\": \"*um5\", \"type\": \"quantitative\", \"bin\": true}, \"y\": {\"field\": \"*um5\", \"type\": \"quantitative\", \"bin\": true}, \"y\": {\"field\": \"*um5\", \"type\": \"quantitative\", \"bin\": true}, \"y\": {\"field\": \"*um5\", \"type\": \"quantitative\", \"bin\": true}, \"y\": {\"field\": \"*um5\", \"type\": \"quantitative\", \"bin\": true}, \"y\": {\"field\": \"*um5\", \"type\": \"quantitative\", \"bin\": true}, \"y\": {\"field\": \"*um5\", \"type\": \"quantitative\", \"bin\": true}, \"y\": {\"field\": \"*um5\", \"type\": \"quantitative\", \"bin\": true}, \"y\": {\"field\": \"*um5\", \"type\": \"quantitative\", \"bin\": true}, \"y\": {\"field\": \"*um5\", \"type\": \"quantitative\", \"bin\": true}, \"y\": {\"field\": \"*um5\", \"type\": \"quantitative\", \"bin\": true}, \"y\": {\"field\": \"*um5\", \"type\": \"quantitative\", \"bin\": true}, \"y\": {\"field\": \"*um5\", \"type\": \"quantitative\", \"bin\": true}, \"y\": {\"field\": \"*um5\", \"type\": \"quantitative\", \"bin\": true}, \"y\": {\"field\": \"*um5\", \"type\": \"qu"
     ]
    }
   ],
   "source": [
    "# Pass this single string to the greedy search\n",
    "batch = next(iter(progression_dataloader))\n",
    "source = batch[0].to(device)\n",
    "target = batch[1].to(device)\n",
    "\n",
    "print(source.shape)\n",
    "# Testing the model\n",
    "\n",
    "outputs = greedy_search(model, source[0].unsqueeze(0), 2000, target_vocab.char2idx['<sos>'])\n",
    "\n",
    "for i in range(len(outputs)):\n",
    "    print(target_vocab.idx2char[outputs[i]], end='')\n",
    "\n"
   ]
  },
  {
   "cell_type": "code",
   "execution_count": 309,
   "metadata": {},
   "outputs": [],
   "source": [
    "outputs = beam_search(model, source[0].unsqueeze(0), 2000, target_vocab.char2idx['<sos>'])"
   ]
  },
  {
   "cell_type": "code",
   "execution_count": 310,
   "metadata": {},
   "outputs": [
    {
     "name": "stdout",
     "output_type": "stream",
     "text": [
      "<sos>{\"encoding\": {\"y\": {\"field\": \"str5\", \"type\": \"nominal\", \"primitiveType\": \"string\", \"selected\": true}, \"x\": {\"field\": \"*\", \"aggregate\": \"count\", \"type\": \"quantitative\", \"bin\": true}, \"y\": {\"field\": \"*\", \"aggregate\": \"count\", \"type\": \"quantitative\", \"bin\": true}, \"y\": {\"field\": \"*\", \"aggregate\": \"count\", \"type\": \"quantitative\", \"bin\": true}, \"y\": {\"field\": \"*\", \"aggregate\": \"count\", \"type\": \"quantitative\", \"bin\": true}, \"y\": {\"field\": \"*\", \"aggregate\": \"count\", \"type\": \"quantitative\", \"bin\": true}, \"y\": {\"field\": \"*\", \"aggregate\": \"count\", \"type\": \"quantitative\", \"bin\": true}, \"y\": {\"field\": \"*\", \"aggregate\": \"count\", \"type\": \"quantitative\", \"bin\": true}, \"y\": {\"field\": \"*\", \"aggregate\": \"count\", \"type\": \"quantitative\", \"bin\": true}, \"y\": {\"field\": \"*\", \"aggregate\": \"count\", \"type\": \"quantitative\", \"bin\": true}, \"y\": {\"field\": \"*\", \"aggregate\": \"count\", \"type\": \"quantitative\", \"bin\": true}, \"y\": {\"field\": \"*\", \"aggregate\": \"count\", \"type\": \"quantitative\", \"bin\": true}, \"y\": {\"field\": \"*\", \"aggregate\": \"count\", \"type\": \"quantitative\", \"bin\": true}, \"y\": {\"field\": \"*\", \"aggregate\": \"count\", \"type\": \"quantitative\", \"bin\": true}, \"y\": {\"field\": \"*\", \"aggregate\": \"count\", \"type\": \"quantitative\", \"bin\": true}, \"y\": {\"field\": \"*\", \"aggregate\": \"count\", \"type\": \"quantitative\", \"bin\": true}, \"y\": {\"field\": \"*\", \"aggregate\": \"count\", \"type\": \"quantitative\", \"bin\": true}, \"y\": {\"field\": \"*\", \"aggregate\": \"count\", \"type\": \"quantitative\", \"bin\": true}, \"y\": {\"field\": \"*\", \"aggregate\": \"count\", \"type\": \"quantitative\", \"bin\": true}, \"y\": {\"field\": \"*\", \"aggregate\": \"count\", \"type\": \"quantitative\", \"bin\": true}, \"y\": {\"field\": \"*\", \"aggregate\": \"count\", \"type\": \"quantitative\", \"bin\": true}, \"y\": {\"field\": \"*\", \"aggregate\": \"count\", \"type\": \"quantitative\", \"bin\": true}, \"y\": {\"field\": \"*\", \"aggregate\": \"count\", \"type\": \"quantitative\", \"bin\": true}, \"y\": {\"field\": \"*\", \"aggregate\": \"count\", \"type\": \"quantitative\", \"bin\": true}, \"y\": {\"field\": \"*\", \"aggregate\": \"count\", \"type\": \"quantit\n",
      "\n",
      "<sos>{\"encoding\": {\"y\": {\"field\": \"str5\", \"type\": \"nominal\", \"primitiveType\": \"string\", \"selected\": true}, \"x\": {\"field\": \"*\", \"aggregate\": \"count\", \"type\": \"quantitative\", \"bin\": true}, \"x\": {\"field\": \"*\", \"aggregate\": \"count\", \"type\": \"quantitative\", \"bin\": true}, \"y\": {\"field\": \"*\", \"aggregate\": \"count\", \"type\": \"quantitative\", \"bin\": true}, \"y\": {\"field\": \"*\", \"aggregate\": \"count\", \"type\": \"quantitative\", \"bin\": true}, \"y\": {\"field\": \"*\", \"aggregate\": \"count\", \"type\": \"quantitative\", \"bin\": true}, \"y\": {\"field\": \"*\", \"aggregate\": \"count\", \"type\": \"quantitative\", \"bin\": true}, \"y\": {\"field\": \"*\", \"aggregate\": \"count\", \"type\": \"quantitative\", \"bin\": true}, \"y\": {\"field\": \"*\", \"aggregate\": \"count\", \"type\": \"quantitative\", \"bin\": true}, \"y\": {\"field\": \"*\", \"aggregate\": \"count\", \"type\": \"quantitative\", \"bin\": true}, \"y\": {\"field\": \"*\", \"aggregate\": \"count\", \"type\": \"quantitative\", \"bin\": true}, \"y\": {\"field\": \"*\", \"aggregate\": \"count\", \"type\": \"quantitative\", \"bin\": true}, \"y\": {\"field\": \"*\", \"aggregate\": \"count\", \"type\": \"quantitative\", \"bin\": true}, \"y\": {\"field\": \"*\", \"aggregate\": \"count\", \"type\": \"quantitative\", \"bin\": true}, \"y\": {\"field\": \"*\", \"aggregate\": \"count\", \"type\": \"quantitative\", \"bin\": true}, \"y\": {\"field\": \"*\", \"aggregate\": \"count\", \"type\": \"quantitative\", \"bin\": true}, \"y\": {\"field\": \"*\", \"aggregate\": \"count\", \"type\": \"quantitative\", \"bin\": true}, \"y\": {\"field\": \"*\", \"aggregate\": \"count\", \"type\": \"quantitative\", \"bin\": true}, \"y\": {\"field\": \"*\", \"aggregate\": \"count\", \"type\": \"quantitative\", \"bin\": true}, \"y\": {\"field\": \"*\", \"aggregate\": \"count\", \"type\": \"quantitative\", \"bin\": true}, \"y\": {\"field\": \"*\", \"aggregate\": \"count\", \"type\": \"quantitative\", \"bin\": true}, \"y\": {\"field\": \"*\", \"aggregate\": \"count\", \"type\": \"quantitative\", \"bin\": true}, \"y\": {\"field\": \"*\", \"aggregate\": \"count\", \"type\": \"quantitative\", \"bin\": true}, \"y\": {\"field\": \"*\", \"aggregate\": \"count\", \"type\": \"quantitative\", \"bin\": true}, \"y\": {\"field\": \"*\", \"aggregate\": \"count\", \"type\": \"quantit\n",
      "\n",
      "<sos>{\"encoding\": {\"y\": {\"field\": \"str5\", \"type\": \"nominal\", \"primitiveType\": \"string\", \"selected\": true}, \"x\": {\"field\": \"*\", \"aggregate\": \"count\", \"type\": \"quantitative\", \"bin\": true}, \"y\": {\"field\": \"*\", \"aggregate\": \"count\", \"type\": \"quantitative\", \"bin\": true}, \"x\": {\"field\": \"*\", \"aggregate\": \"count\", \"type\": \"quantitative\", \"bin\": true}, \"y\": {\"field\": \"*\", \"aggregate\": \"count\", \"type\": \"quantitative\", \"bin\": true}, \"y\": {\"field\": \"*\", \"aggregate\": \"count\", \"type\": \"quantitative\", \"bin\": true}, \"y\": {\"field\": \"*\", \"aggregate\": \"count\", \"type\": \"quantitative\", \"bin\": true}, \"y\": {\"field\": \"*\", \"aggregate\": \"count\", \"type\": \"quantitative\", \"bin\": true}, \"y\": {\"field\": \"*\", \"aggregate\": \"count\", \"type\": \"quantitative\", \"bin\": true}, \"y\": {\"field\": \"*\", \"aggregate\": \"count\", \"type\": \"quantitative\", \"bin\": true}, \"y\": {\"field\": \"*\", \"aggregate\": \"count\", \"type\": \"quantitative\", \"bin\": true}, \"y\": {\"field\": \"*\", \"aggregate\": \"count\", \"type\": \"quantitative\", \"bin\": true}, \"y\": {\"field\": \"*\", \"aggregate\": \"count\", \"type\": \"quantitative\", \"bin\": true}, \"y\": {\"field\": \"*\", \"aggregate\": \"count\", \"type\": \"quantitative\", \"bin\": true}, \"y\": {\"field\": \"*\", \"aggregate\": \"count\", \"type\": \"quantitative\", \"bin\": true}, \"y\": {\"field\": \"*\", \"aggregate\": \"count\", \"type\": \"quantitative\", \"bin\": true}, \"y\": {\"field\": \"*\", \"aggregate\": \"count\", \"type\": \"quantitative\", \"bin\": true}, \"y\": {\"field\": \"*\", \"aggregate\": \"count\", \"type\": \"quantitative\", \"bin\": true}, \"y\": {\"field\": \"*\", \"aggregate\": \"count\", \"type\": \"quantitative\", \"bin\": true}, \"y\": {\"field\": \"*\", \"aggregate\": \"count\", \"type\": \"quantitative\", \"bin\": true}, \"y\": {\"field\": \"*\", \"aggregate\": \"count\", \"type\": \"quantitative\", \"bin\": true}, \"y\": {\"field\": \"*\", \"aggregate\": \"count\", \"type\": \"quantitative\", \"bin\": true}, \"y\": {\"field\": \"*\", \"aggregate\": \"count\", \"type\": \"quantitative\", \"bin\": true}, \"y\": {\"field\": \"*\", \"aggregate\": \"count\", \"type\": \"quantitative\", \"bin\": true}, \"y\": {\"field\": \"*\", \"aggregate\": \"count\", \"type\": \"quantit\n",
      "\n",
      "<sos>{\"encoding\": {\"y\": {\"field\": \"str5\", \"type\": \"nominal\", \"primitiveType\": \"string\", \"selected\": true}, \"x\": {\"field\": \"*\", \"aggregate\": \"count\", \"type\": \"quantitative\", \"bin\": true}, \"y\": {\"field\": \"*\", \"aggregate\": \"count\", \"type\": \"quantitative\", \"bin\": true}, \"y\": {\"field\": \"*\", \"aggregate\": \"count\", \"type\": \"quantitative\", \"bin\": true}, \"y\": {\"field\": \"*\", \"aggregate\": \"count\", \"type\": \"quantitative\", \"bin\": true}, \"y\": {\"field\": \"*\", \"aggregate\": \"count\", \"type\": \"quantitative\", \"bin\": true}, \"y\": {\"field\": \"*\", \"aggregate\": \"count\", \"type\": \"quantitative\", \"bin\": true}, \"y\": {\"field\": \"*\", \"aggregate\": \"count\", \"type\": \"quantitative\", \"bin\": true}, \"y\": {\"field\": \"*\", \"aggregate\": \"count\", \"type\": \"quantitative\", \"bin\": true}, \"y\": {\"field\": \"*\", \"aggregate\": \"count\", \"type\": \"quantitative\", \"bin\": true}, \"y\": {\"field\": \"*\", \"aggregate\": \"count\", \"type\": \"quantitative\", \"bin\": true}, \"y\": {\"field\": \"*\", \"aggregate\": \"count\", \"type\": \"quantitative\", \"bin\": true}, \"y\": {\"field\": \"*\", \"aggregate\": \"count\", \"type\": \"quantitative\", \"bin\": true}, \"y\": {\"field\": \"*\", \"aggregate\": \"count\", \"type\": \"quantitative\", \"bin\": true}, \"y\": {\"field\": \"*\", \"aggregate\": \"count\", \"type\": \"quantitative\", \"bin\": true}, \"y\": {\"field\": \"*\", \"aggregate\": \"count\", \"type\": \"quantitative\", \"bin\": true}, \"y\": {\"field\": \"*\", \"aggregate\": \"count\", \"type\": \"quantitative\", \"bin\": true}, \"y\": {\"field\": \"*\", \"aggregate\": \"count\", \"type\": \"quantitative\", \"bin\": true}, \"y\": {\"field\": \"*\", \"aggregate\": \"count\", \"type\": \"quantitative\", \"bin\": true}, \"y\": {\"field\": \"*\", \"aggregate\": \"count\", \"type\": \"quantitative\", \"bin\": true}, \"y\": {\"field\": \"*\", \"aggregate\": \"count\", \"type\": \"quantitative\", \"bin\": true}, \"y\": {\"field\": \"*\", \"aggregate\": \"count\", \"type\": \"quantitative\", \"bin\": true}, \"y\": {\"field\": \"*\", \"aggregate\": \"count\", \"type\": \"quantitative\", \"bin\": true}, \"y\": {\"field\": \"*\", \"aggregate\": \"count\", \"type\": \"quantitative\", \"bin\": true}, \"y\": {\"field\": \"num5\", \"type\": \"quantitative\"}}, \"mark\": \"\n",
      "\n",
      "<sos>{\"encoding\": {\"y\": {\"field\": \"str5\", \"type\": \"nominal\", \"primitiveType\": \"string\", \"selected\": true}, \"x\": {\"field\": \"*\", \"aggregate\": \"count\", \"type\": \"quantitative\", \"bin\": true}, \"x\": {\"field\": \"*\", \"aggregate\": \"count\", \"type\": \"quantitative\", \"bin\": true}, \"y\": {\"field\": \"*\", \"aggregate\": \"count\", \"type\": \"quantitative\", \"bin\": true}, \"y\": {\"field\": \"*\", \"aggregate\": \"count\", \"type\": \"quantitative\", \"bin\": true}, \"y\": {\"field\": \"*\", \"aggregate\": \"count\", \"type\": \"quantitative\", \"bin\": true}, \"y\": {\"field\": \"*\", \"aggregate\": \"count\", \"type\": \"quantitative\", \"bin\": true}, \"y\": {\"field\": \"*\", \"aggregate\": \"count\", \"type\": \"quantitative\", \"bin\": true}, \"y\": {\"field\": \"*\", \"aggregate\": \"count\", \"type\": \"quantitative\", \"bin\": true}, \"y\": {\"field\": \"*\", \"aggregate\": \"count\", \"type\": \"quantitative\", \"bin\": true}, \"y\": {\"field\": \"*\", \"aggregate\": \"count\", \"type\": \"quantitative\", \"bin\": true}, \"y\": {\"field\": \"*\", \"aggregate\": \"count\", \"type\": \"quantitative\", \"bin\": true}, \"y\": {\"field\": \"*\", \"aggregate\": \"count\", \"type\": \"quantitative\", \"bin\": true}, \"y\": {\"field\": \"*\", \"aggregate\": \"count\", \"type\": \"quantitative\", \"bin\": true}, \"y\": {\"field\": \"*\", \"aggregate\": \"count\", \"type\": \"quantitative\", \"bin\": true}, \"y\": {\"field\": \"*\", \"aggregate\": \"count\", \"type\": \"quantitative\", \"bin\": true}, \"y\": {\"field\": \"*\", \"aggregate\": \"count\", \"type\": \"quantitative\", \"bin\": true}, \"y\": {\"field\": \"*\", \"aggregate\": \"count\", \"type\": \"quantitative\", \"bin\": true}, \"y\": {\"field\": \"*\", \"aggregate\": \"count\", \"type\": \"quantitative\", \"bin\": true}, \"y\": {\"field\": \"*\", \"aggregate\": \"count\", \"type\": \"quantitative\", \"bin\": true}, \"y\": {\"field\": \"*\", \"aggregate\": \"count\", \"type\": \"quantitative\", \"bin\": true}, \"y\": {\"field\": \"*\", \"aggregate\": \"count\", \"type\": \"quantitative\", \"bin\": true}, \"y\": {\"field\": \"*\", \"aggregate\": \"count\", \"type\": \"quantitative\", \"bin\": true}, \"y\": {\"field\": \"*\", \"aggregate\": \"count\", \"type\": \"quantitative\", \"bin\": true}, \"y\": {\"field\": \"num5\", \"type\": \"quantitative\"}}, \"mark\": \"\n",
      "\n",
      "<sos>{\"encoding\": {\"y\": {\"field\": \"str5\", \"type\": \"nominal\", \"primitiveType\": \"string\", \"selected\": true}, \"x\": {\"field\": \"*\", \"aggregate\": \"count\", \"type\": \"quantitative\", \"bin\": true}, \"y\": {\"field\": \"*\", \"aggregate\": \"count\", \"type\": \"quantitative\", \"bin\": true}, \"x\": {\"field\": \"*\", \"aggregate\": \"count\", \"type\": \"quantitative\", \"bin\": true}, \"y\": {\"field\": \"*\", \"aggregate\": \"count\", \"type\": \"quantitative\", \"bin\": true}, \"y\": {\"field\": \"*\", \"aggregate\": \"count\", \"type\": \"quantitative\", \"bin\": true}, \"y\": {\"field\": \"*\", \"aggregate\": \"count\", \"type\": \"quantitative\", \"bin\": true}, \"y\": {\"field\": \"*\", \"aggregate\": \"count\", \"type\": \"quantitative\", \"bin\": true}, \"y\": {\"field\": \"*\", \"aggregate\": \"count\", \"type\": \"quantitative\", \"bin\": true}, \"y\": {\"field\": \"*\", \"aggregate\": \"count\", \"type\": \"quantitative\", \"bin\": true}, \"y\": {\"field\": \"*\", \"aggregate\": \"count\", \"type\": \"quantitative\", \"bin\": true}, \"y\": {\"field\": \"*\", \"aggregate\": \"count\", \"type\": \"quantitative\", \"bin\": true}, \"y\": {\"field\": \"*\", \"aggregate\": \"count\", \"type\": \"quantitative\", \"bin\": true}, \"y\": {\"field\": \"*\", \"aggregate\": \"count\", \"type\": \"quantitative\", \"bin\": true}, \"y\": {\"field\": \"*\", \"aggregate\": \"count\", \"type\": \"quantitative\", \"bin\": true}, \"y\": {\"field\": \"*\", \"aggregate\": \"count\", \"type\": \"quantitative\", \"bin\": true}, \"y\": {\"field\": \"*\", \"aggregate\": \"count\", \"type\": \"quantitative\", \"bin\": true}, \"y\": {\"field\": \"*\", \"aggregate\": \"count\", \"type\": \"quantitative\", \"bin\": true}, \"y\": {\"field\": \"*\", \"aggregate\": \"count\", \"type\": \"quantitative\", \"bin\": true}, \"y\": {\"field\": \"*\", \"aggregate\": \"count\", \"type\": \"quantitative\", \"bin\": true}, \"y\": {\"field\": \"*\", \"aggregate\": \"count\", \"type\": \"quantitative\", \"bin\": true}, \"y\": {\"field\": \"*\", \"aggregate\": \"count\", \"type\": \"quantitative\", \"bin\": true}, \"y\": {\"field\": \"*\", \"aggregate\": \"count\", \"type\": \"quantitative\", \"bin\": true}, \"y\": {\"field\": \"*\", \"aggregate\": \"count\", \"type\": \"quantitative\", \"bin\": true}, \"y\": {\"field\": \"num5\", \"type\": \"quantitative\"}}, \"mark\": \"\n",
      "\n",
      "<sos>{\"encoding\": {\"y\": {\"field\": \"str5\", \"type\": \"nominal\", \"primitiveType\": \"string\", \"selected\": true}, \"x\": {\"field\": \"*\", \"aggregate\": \"count\", \"type\": \"quantitative\", \"bin\": true}, \"y\": {\"field\": \"*\", \"aggregate\": \"count\", \"type\": \"quantitative\", \"bin\": true}, \"y\": {\"field\": \"*\", \"aggregate\": \"count\", \"type\": \"quantitative\", \"bin\": true}, \"y\": {\"field\": \"*\", \"aggregate\": \"count\", \"type\": \"quantitative\", \"bin\": true}, \"y\": {\"field\": \"*\", \"aggregate\": \"count\", \"type\": \"quantitative\", \"bin\": true}, \"y\": {\"field\": \"*\", \"aggregate\": \"count\", \"type\": \"quantitative\", \"bin\": true}, \"y\": {\"field\": \"*\", \"aggregate\": \"count\", \"type\": \"quantitative\", \"bin\": true}, \"y\": {\"field\": \"*\", \"aggregate\": \"count\", \"type\": \"quantitative\", \"bin\": true}, \"y\": {\"field\": \"*\", \"aggregate\": \"count\", \"type\": \"quantitative\", \"bin\": true}, \"y\": {\"field\": \"*\", \"aggregate\": \"count\", \"type\": \"quantitative\", \"bin\": true}, \"y\": {\"field\": \"*\", \"aggregate\": \"count\", \"type\": \"quantitative\", \"bin\": true}, \"y\": {\"field\": \"*\", \"aggregate\": \"count\", \"type\": \"quantitative\", \"bin\": true}, \"y\": {\"field\": \"*\", \"aggregate\": \"count\", \"type\": \"quantitative\", \"bin\": true}, \"y\": {\"field\": \"*\", \"aggregate\": \"count\", \"type\": \"quantitative\", \"bin\": true}, \"y\": {\"field\": \"*\", \"aggregate\": \"count\", \"type\": \"quantitative\", \"bin\": true}, \"y\": {\"field\": \"*\", \"aggregate\": \"count\", \"type\": \"quantitative\", \"bin\": true}, \"y\": {\"field\": \"*\", \"aggregate\": \"count\", \"type\": \"quantitative\", \"bin\": true}, \"y\": {\"field\": \"*\", \"aggregate\": \"count\", \"type\": \"quantitative\", \"bin\": true}, \"y\": {\"field\": \"*\", \"aggregate\": \"count\", \"type\": \"quantitative\", \"bin\": true}, \"y\": {\"field\": \"*\", \"aggregate\": \"count\", \"type\": \"quantitative\", \"bin\": true}, \"y\": {\"field\": \"*\", \"aggregate\": \"count\", \"type\": \"quantitative\", \"bin\": true}, \"y\": {\"field\": \"*\", \"aggregate\": \"count\", \"type\": \"quantitative\", \"bin\": true}, \"y\": {\"field\": \"*\", \"aggregate\": \"count\", \"type\": \"quantitative\", \"bin\": true}, \"x\": {\"field\": \"num5\", \"type\": \"quantitative\"}}, \"mark\": \"\n",
      "\n",
      "<sos>{\"encoding\": {\"y\": {\"field\": \"str5\", \"type\": \"nominal\", \"primitiveType\": \"string\", \"selected\": true}, \"x\": {\"field\": \"*\", \"aggregate\": \"count\", \"type\": \"quantitative\", \"bin\": true}, \"x\": {\"field\": \"*\", \"aggregate\": \"count\", \"type\": \"quantitative\", \"bin\": true}, \"y\": {\"field\": \"*\", \"aggregate\": \"count\", \"type\": \"quantitative\", \"bin\": true}, \"y\": {\"field\": \"*\", \"aggregate\": \"count\", \"type\": \"quantitative\", \"bin\": true}, \"y\": {\"field\": \"*\", \"aggregate\": \"count\", \"type\": \"quantitative\", \"bin\": true}, \"y\": {\"field\": \"*\", \"aggregate\": \"count\", \"type\": \"quantitative\", \"bin\": true}, \"y\": {\"field\": \"*\", \"aggregate\": \"count\", \"type\": \"quantitative\", \"bin\": true}, \"y\": {\"field\": \"*\", \"aggregate\": \"count\", \"type\": \"quantitative\", \"bin\": true}, \"y\": {\"field\": \"*\", \"aggregate\": \"count\", \"type\": \"quantitative\", \"bin\": true}, \"y\": {\"field\": \"*\", \"aggregate\": \"count\", \"type\": \"quantitative\", \"bin\": true}, \"y\": {\"field\": \"*\", \"aggregate\": \"count\", \"type\": \"quantitative\", \"bin\": true}, \"y\": {\"field\": \"*\", \"aggregate\": \"count\", \"type\": \"quantitative\", \"bin\": true}, \"y\": {\"field\": \"*\", \"aggregate\": \"count\", \"type\": \"quantitative\", \"bin\": true}, \"y\": {\"field\": \"*\", \"aggregate\": \"count\", \"type\": \"quantitative\", \"bin\": true}, \"y\": {\"field\": \"*\", \"aggregate\": \"count\", \"type\": \"quantitative\", \"bin\": true}, \"y\": {\"field\": \"*\", \"aggregate\": \"count\", \"type\": \"quantitative\", \"bin\": true}, \"y\": {\"field\": \"*\", \"aggregate\": \"count\", \"type\": \"quantitative\", \"bin\": true}, \"y\": {\"field\": \"*\", \"aggregate\": \"count\", \"type\": \"quantitative\", \"bin\": true}, \"y\": {\"field\": \"*\", \"aggregate\": \"count\", \"type\": \"quantitative\", \"bin\": true}, \"y\": {\"field\": \"*\", \"aggregate\": \"count\", \"type\": \"quantitative\", \"bin\": true}, \"y\": {\"field\": \"*\", \"aggregate\": \"count\", \"type\": \"quantitative\", \"bin\": true}, \"y\": {\"field\": \"*\", \"aggregate\": \"count\", \"type\": \"quantitative\", \"bin\": true}, \"y\": {\"field\": \"*\", \"aggregate\": \"count\", \"type\": \"quantitative\", \"bin\": true}, \"x\": {\"field\": \"num5\", \"type\": \"quantitative\"}}, \"mark\": \"\n",
      "\n",
      "<sos>{\"encoding\": {\"y\": {\"field\": \"str5\", \"type\": \"nominal\", \"primitiveType\": \"string\", \"selected\": true}, \"x\": {\"field\": \"*\", \"aggregate\": \"count\", \"type\": \"quantitative\", \"bin\": true}, \"y\": {\"field\": \"*\", \"aggregate\": \"count\", \"type\": \"quantitative\", \"bin\": true}, \"x\": {\"field\": \"*\", \"aggregate\": \"count\", \"type\": \"quantitative\", \"bin\": true}, \"y\": {\"field\": \"*\", \"aggregate\": \"count\", \"type\": \"quantitative\", \"bin\": true}, \"y\": {\"field\": \"*\", \"aggregate\": \"count\", \"type\": \"quantitative\", \"bin\": true}, \"y\": {\"field\": \"*\", \"aggregate\": \"count\", \"type\": \"quantitative\", \"bin\": true}, \"y\": {\"field\": \"*\", \"aggregate\": \"count\", \"type\": \"quantitative\", \"bin\": true}, \"y\": {\"field\": \"*\", \"aggregate\": \"count\", \"type\": \"quantitative\", \"bin\": true}, \"y\": {\"field\": \"*\", \"aggregate\": \"count\", \"type\": \"quantitative\", \"bin\": true}, \"y\": {\"field\": \"*\", \"aggregate\": \"count\", \"type\": \"quantitative\", \"bin\": true}, \"y\": {\"field\": \"*\", \"aggregate\": \"count\", \"type\": \"quantitative\", \"bin\": true}, \"y\": {\"field\": \"*\", \"aggregate\": \"count\", \"type\": \"quantitative\", \"bin\": true}, \"y\": {\"field\": \"*\", \"aggregate\": \"count\", \"type\": \"quantitative\", \"bin\": true}, \"y\": {\"field\": \"*\", \"aggregate\": \"count\", \"type\": \"quantitative\", \"bin\": true}, \"y\": {\"field\": \"*\", \"aggregate\": \"count\", \"type\": \"quantitative\", \"bin\": true}, \"y\": {\"field\": \"*\", \"aggregate\": \"count\", \"type\": \"quantitative\", \"bin\": true}, \"y\": {\"field\": \"*\", \"aggregate\": \"count\", \"type\": \"quantitative\", \"bin\": true}, \"y\": {\"field\": \"*\", \"aggregate\": \"count\", \"type\": \"quantitative\", \"bin\": true}, \"y\": {\"field\": \"*\", \"aggregate\": \"count\", \"type\": \"quantitative\", \"bin\": true}, \"y\": {\"field\": \"*\", \"aggregate\": \"count\", \"type\": \"quantitative\", \"bin\": true}, \"y\": {\"field\": \"*\", \"aggregate\": \"count\", \"type\": \"quantitative\", \"bin\": true}, \"y\": {\"field\": \"*\", \"aggregate\": \"count\", \"type\": \"quantitative\", \"bin\": true}, \"y\": {\"field\": \"*\", \"aggregate\": \"count\", \"type\": \"quantitative\", \"bin\": true}, \"x\": {\"field\": \"num5\", \"type\": \"quantitative\"}}, \"mark\": \"\n",
      "\n",
      "<sos>{\"encoding\": {\"y\": {\"field\": \"str5\", \"type\": \"nominal\", \"primitiveType\": \"string\", \"selected\": true}, \"x\": {\"field\": \"*\", \"aggregate\": \"count\", \"type\": \"quantitative\", \"bin\": true}, \"y\": {\"field\": \"*\", \"aggregate\": \"count\", \"type\": \"quantitative\", \"bin\": true}, \"y\": {\"field\": \"*\", \"aggregate\": \"count\", \"type\": \"quantitative\", \"bin\": true}, \"y\": {\"field\": \"*\", \"aggregate\": \"count\", \"type\": \"quantitative\", \"bin\": true}, \"y\": {\"field\": \"*\", \"aggregate\": \"count\", \"type\": \"quantitative\", \"bin\": true}, \"y\": {\"field\": \"*\", \"aggregate\": \"count\", \"type\": \"quantitative\", \"bin\": true}, \"y\": {\"field\": \"*\", \"aggregate\": \"count\", \"type\": \"quantitative\", \"bin\": true}, \"y\": {\"field\": \"*\", \"aggregate\": \"count\", \"type\": \"quantitative\", \"bin\": true}, \"y\": {\"field\": \"*\", \"aggregate\": \"count\", \"type\": \"quantitative\", \"bin\": true}, \"y\": {\"field\": \"*\", \"aggregate\": \"count\", \"type\": \"quantitative\", \"bin\": true}, \"y\": {\"field\": \"*\", \"aggregate\": \"count\", \"type\": \"quantitative\", \"bin\": true}, \"y\": {\"field\": \"*\", \"aggregate\": \"count\", \"type\": \"quantitative\", \"bin\": true}, \"y\": {\"field\": \"*\", \"aggregate\": \"count\", \"type\": \"quantitative\", \"bin\": true}, \"y\": {\"field\": \"*\", \"aggregate\": \"count\", \"type\": \"quantitative\", \"bin\": true}, \"y\": {\"field\": \"*\", \"aggregate\": \"count\", \"type\": \"quantitative\", \"bin\": true}, \"y\": {\"field\": \"*\", \"aggregate\": \"count\", \"type\": \"quantitative\", \"bin\": true}, \"y\": {\"field\": \"*\", \"aggregate\": \"count\", \"type\": \"quantitative\", \"bin\": true}, \"y\": {\"field\": \"*\", \"aggregate\": \"count\", \"type\": \"quantitative\", \"bin\": true}, \"y\": {\"field\": \"*\", \"aggregate\": \"count\", \"type\": \"quantitative\", \"bin\": true}, \"y\": {\"field\": \"*\", \"aggregate\": \"count\", \"type\": \"quantitative\", \"bin\": true}, \"y\": {\"field\": \"*\", \"aggregate\": \"count\", \"type\": \"quantitative\", \"bin\": true}, \"y\": {\"field\": \"*\", \"aggregate\": \"count\", \"type\": \"quantitative\", \"bin\": true}, \"y\": {\"field\": \"*\", \"aggregate\": \"count\", \"type\": \"quantitative\", \"bin\": true}, \"y\": {\"field\": \"num5\", \"type\": \"quantitative\", \"bin\": true\n",
      "\n",
      "<sos>{\"encoding\": {\"y\": {\"field\": \"str5\", \"type\": \"nominal\", \"primitiveType\": \"string\", \"selected\": true}, \"x\": {\"field\": \"*\", \"aggregate\": \"count\", \"type\": \"quantitative\", \"bin\": true}, \"x\": {\"field\": \"*\", \"aggregate\": \"count\", \"type\": \"quantitative\", \"bin\": true}, \"y\": {\"field\": \"*\", \"aggregate\": \"count\", \"type\": \"quantitative\", \"bin\": true}, \"y\": {\"field\": \"*\", \"aggregate\": \"count\", \"type\": \"quantitative\", \"bin\": true}, \"y\": {\"field\": \"*\", \"aggregate\": \"count\", \"type\": \"quantitative\", \"bin\": true}, \"y\": {\"field\": \"*\", \"aggregate\": \"count\", \"type\": \"quantitative\", \"bin\": true}, \"y\": {\"field\": \"*\", \"aggregate\": \"count\", \"type\": \"quantitative\", \"bin\": true}, \"y\": {\"field\": \"*\", \"aggregate\": \"count\", \"type\": \"quantitative\", \"bin\": true}, \"y\": {\"field\": \"*\", \"aggregate\": \"count\", \"type\": \"quantitative\", \"bin\": true}, \"y\": {\"field\": \"*\", \"aggregate\": \"count\", \"type\": \"quantitative\", \"bin\": true}, \"y\": {\"field\": \"*\", \"aggregate\": \"count\", \"type\": \"quantitative\", \"bin\": true}, \"y\": {\"field\": \"*\", \"aggregate\": \"count\", \"type\": \"quantitative\", \"bin\": true}, \"y\": {\"field\": \"*\", \"aggregate\": \"count\", \"type\": \"quantitative\", \"bin\": true}, \"y\": {\"field\": \"*\", \"aggregate\": \"count\", \"type\": \"quantitative\", \"bin\": true}, \"y\": {\"field\": \"*\", \"aggregate\": \"count\", \"type\": \"quantitative\", \"bin\": true}, \"y\": {\"field\": \"*\", \"aggregate\": \"count\", \"type\": \"quantitative\", \"bin\": true}, \"y\": {\"field\": \"*\", \"aggregate\": \"count\", \"type\": \"quantitative\", \"bin\": true}, \"y\": {\"field\": \"*\", \"aggregate\": \"count\", \"type\": \"quantitative\", \"bin\": true}, \"y\": {\"field\": \"*\", \"aggregate\": \"count\", \"type\": \"quantitative\", \"bin\": true}, \"y\": {\"field\": \"*\", \"aggregate\": \"count\", \"type\": \"quantitative\", \"bin\": true}, \"y\": {\"field\": \"*\", \"aggregate\": \"count\", \"type\": \"quantitative\", \"bin\": true}, \"y\": {\"field\": \"*\", \"aggregate\": \"count\", \"type\": \"quantitative\", \"bin\": true}, \"y\": {\"field\": \"*\", \"aggregate\": \"count\", \"type\": \"quantitative\", \"bin\": true}, \"y\": {\"field\": \"num5\", \"type\": \"quantitative\", \"bin\": true\n",
      "\n",
      "<sos>{\"encoding\": {\"y\": {\"field\": \"str5\", \"type\": \"nominal\", \"primitiveType\": \"string\", \"selected\": true}, \"x\": {\"field\": \"*\", \"aggregate\": \"count\", \"type\": \"quantitative\", \"bin\": true}, \"y\": {\"field\": \"*\", \"aggregate\": \"count\", \"type\": \"quantitative\", \"bin\": true}, \"x\": {\"field\": \"*\", \"aggregate\": \"count\", \"type\": \"quantitative\", \"bin\": true}, \"y\": {\"field\": \"*\", \"aggregate\": \"count\", \"type\": \"quantitative\", \"bin\": true}, \"y\": {\"field\": \"*\", \"aggregate\": \"count\", \"type\": \"quantitative\", \"bin\": true}, \"y\": {\"field\": \"*\", \"aggregate\": \"count\", \"type\": \"quantitative\", \"bin\": true}, \"y\": {\"field\": \"*\", \"aggregate\": \"count\", \"type\": \"quantitative\", \"bin\": true}, \"y\": {\"field\": \"*\", \"aggregate\": \"count\", \"type\": \"quantitative\", \"bin\": true}, \"y\": {\"field\": \"*\", \"aggregate\": \"count\", \"type\": \"quantitative\", \"bin\": true}, \"y\": {\"field\": \"*\", \"aggregate\": \"count\", \"type\": \"quantitative\", \"bin\": true}, \"y\": {\"field\": \"*\", \"aggregate\": \"count\", \"type\": \"quantitative\", \"bin\": true}, \"y\": {\"field\": \"*\", \"aggregate\": \"count\", \"type\": \"quantitative\", \"bin\": true}, \"y\": {\"field\": \"*\", \"aggregate\": \"count\", \"type\": \"quantitative\", \"bin\": true}, \"y\": {\"field\": \"*\", \"aggregate\": \"count\", \"type\": \"quantitative\", \"bin\": true}, \"y\": {\"field\": \"*\", \"aggregate\": \"count\", \"type\": \"quantitative\", \"bin\": true}, \"y\": {\"field\": \"*\", \"aggregate\": \"count\", \"type\": \"quantitative\", \"bin\": true}, \"y\": {\"field\": \"*\", \"aggregate\": \"count\", \"type\": \"quantitative\", \"bin\": true}, \"y\": {\"field\": \"*\", \"aggregate\": \"count\", \"type\": \"quantitative\", \"bin\": true}, \"y\": {\"field\": \"*\", \"aggregate\": \"count\", \"type\": \"quantitative\", \"bin\": true}, \"y\": {\"field\": \"*\", \"aggregate\": \"count\", \"type\": \"quantitative\", \"bin\": true}, \"y\": {\"field\": \"*\", \"aggregate\": \"count\", \"type\": \"quantitative\", \"bin\": true}, \"y\": {\"field\": \"*\", \"aggregate\": \"count\", \"type\": \"quantitative\", \"bin\": true}, \"y\": {\"field\": \"*\", \"aggregate\": \"count\", \"type\": \"quantitative\", \"bin\": true}, \"y\": {\"field\": \"num5\", \"type\": \"quantitative\", \"bin\": true\n",
      "\n",
      "<sos>{\"encoding\": {\"y\": {\"field\": \"str5\", \"type\": \"nominal\", \"primitiveType\": \"string\", \"selected\": true}, \"x\": {\"field\": \"*\", \"aggregate\": \"count\", \"type\": \"quantitative\", \"bin\": true}, \"y\": {\"field\": \"*\", \"aggregate\": \"count\", \"type\": \"quantitative\", \"bin\": true}, \"y\": {\"field\": \"*\", \"aggregate\": \"count\", \"type\": \"quantitative\", \"bin\": true}, \"y\": {\"field\": \"*\", \"aggregate\": \"count\", \"type\": \"quantitative\", \"bin\": true}, \"y\": {\"field\": \"*\", \"aggregate\": \"count\", \"type\": \"quantitative\", \"bin\": true}, \"y\": {\"field\": \"*\", \"aggregate\": \"count\", \"type\": \"quantitative\", \"bin\": true}, \"y\": {\"field\": \"*\", \"aggregate\": \"count\", \"type\": \"quantitative\", \"bin\": true}, \"y\": {\"field\": \"*\", \"aggregate\": \"count\", \"type\": \"quantitative\", \"bin\": true}, \"y\": {\"field\": \"*\", \"aggregate\": \"count\", \"type\": \"quantitative\", \"bin\": true}, \"y\": {\"field\": \"*\", \"aggregate\": \"count\", \"type\": \"quantitative\", \"bin\": true}, \"y\": {\"field\": \"*\", \"aggregate\": \"count\", \"type\": \"quantitative\", \"bin\": true}, \"y\": {\"field\": \"*\", \"aggregate\": \"count\", \"type\": \"quantitative\", \"bin\": true}, \"y\": {\"field\": \"*\", \"aggregate\": \"count\", \"type\": \"quantitative\", \"bin\": true}, \"y\": {\"field\": \"*\", \"aggregate\": \"count\", \"type\": \"quantitative\", \"bin\": true}, \"y\": {\"field\": \"*\", \"aggregate\": \"count\", \"type\": \"quantitative\", \"bin\": true}, \"y\": {\"field\": \"*\", \"aggregate\": \"count\", \"type\": \"quantitative\", \"bin\": true}, \"y\": {\"field\": \"*\", \"aggregate\": \"count\", \"type\": \"quantitative\", \"bin\": true}, \"y\": {\"field\": \"*\", \"aggregate\": \"count\", \"type\": \"quantitative\", \"bin\": true}, \"y\": {\"field\": \"*\", \"aggregate\": \"count\", \"type\": \"quantitative\", \"bin\": true}, \"y\": {\"field\": \"*\", \"aggregate\": \"count\", \"type\": \"quantitative\", \"bin\": true}, \"y\": {\"field\": \"*\", \"aggregate\": \"count\", \"type\": \"quantitative\", \"bin\": true}, \"y\": {\"field\": \"*\", \"aggregate\": \"count\", \"type\": \"quantitative\", \"bin\": true}, \"y\": {\"field\": \"*\", \"aggregate\": \"count\", \"type\": \"quantitative\", \"bin\": true}, \"x\": {\"field\": \"num5\", \"type\": \"quantitative\", \"bin\": true\n",
      "\n",
      "<sos>{\"encoding\": {\"y\": {\"field\": \"str5\", \"type\": \"nominal\", \"primitiveType\": \"string\", \"selected\": true}, \"x\": {\"field\": \"*\", \"aggregate\": \"count\", \"type\": \"quantitative\", \"bin\": true}, \"x\": {\"field\": \"*\", \"aggregate\": \"count\", \"type\": \"quantitative\", \"bin\": true}, \"y\": {\"field\": \"*\", \"aggregate\": \"count\", \"type\": \"quantitative\", \"bin\": true}, \"y\": {\"field\": \"*\", \"aggregate\": \"count\", \"type\": \"quantitative\", \"bin\": true}, \"y\": {\"field\": \"*\", \"aggregate\": \"count\", \"type\": \"quantitative\", \"bin\": true}, \"y\": {\"field\": \"*\", \"aggregate\": \"count\", \"type\": \"quantitative\", \"bin\": true}, \"y\": {\"field\": \"*\", \"aggregate\": \"count\", \"type\": \"quantitative\", \"bin\": true}, \"y\": {\"field\": \"*\", \"aggregate\": \"count\", \"type\": \"quantitative\", \"bin\": true}, \"y\": {\"field\": \"*\", \"aggregate\": \"count\", \"type\": \"quantitative\", \"bin\": true}, \"y\": {\"field\": \"*\", \"aggregate\": \"count\", \"type\": \"quantitative\", \"bin\": true}, \"y\": {\"field\": \"*\", \"aggregate\": \"count\", \"type\": \"quantitative\", \"bin\": true}, \"y\": {\"field\": \"*\", \"aggregate\": \"count\", \"type\": \"quantitative\", \"bin\": true}, \"y\": {\"field\": \"*\", \"aggregate\": \"count\", \"type\": \"quantitative\", \"bin\": true}, \"y\": {\"field\": \"*\", \"aggregate\": \"count\", \"type\": \"quantitative\", \"bin\": true}, \"y\": {\"field\": \"*\", \"aggregate\": \"count\", \"type\": \"quantitative\", \"bin\": true}, \"y\": {\"field\": \"*\", \"aggregate\": \"count\", \"type\": \"quantitative\", \"bin\": true}, \"y\": {\"field\": \"*\", \"aggregate\": \"count\", \"type\": \"quantitative\", \"bin\": true}, \"y\": {\"field\": \"*\", \"aggregate\": \"count\", \"type\": \"quantitative\", \"bin\": true}, \"y\": {\"field\": \"*\", \"aggregate\": \"count\", \"type\": \"quantitative\", \"bin\": true}, \"y\": {\"field\": \"*\", \"aggregate\": \"count\", \"type\": \"quantitative\", \"bin\": true}, \"y\": {\"field\": \"*\", \"aggregate\": \"count\", \"type\": \"quantitative\", \"bin\": true}, \"y\": {\"field\": \"*\", \"aggregate\": \"count\", \"type\": \"quantitative\", \"bin\": true}, \"y\": {\"field\": \"*\", \"aggregate\": \"count\", \"type\": \"quantitative\", \"bin\": true}, \"x\": {\"field\": \"num5\", \"type\": \"quantitative\", \"bin\": true\n",
      "\n",
      "<sos>{\"encoding\": {\"y\": {\"field\": \"str5\", \"type\": \"nominal\", \"primitiveType\": \"string\", \"selected\": true}, \"x\": {\"field\": \"*\", \"aggregate\": \"count\", \"type\": \"quantitative\", \"bin\": true}, \"y\": {\"field\": \"*\", \"aggregate\": \"count\", \"type\": \"quantitative\", \"bin\": true}, \"x\": {\"field\": \"*\", \"aggregate\": \"count\", \"type\": \"quantitative\", \"bin\": true}, \"y\": {\"field\": \"*\", \"aggregate\": \"count\", \"type\": \"quantitative\", \"bin\": true}, \"y\": {\"field\": \"*\", \"aggregate\": \"count\", \"type\": \"quantitative\", \"bin\": true}, \"y\": {\"field\": \"*\", \"aggregate\": \"count\", \"type\": \"quantitative\", \"bin\": true}, \"y\": {\"field\": \"*\", \"aggregate\": \"count\", \"type\": \"quantitative\", \"bin\": true}, \"y\": {\"field\": \"*\", \"aggregate\": \"count\", \"type\": \"quantitative\", \"bin\": true}, \"y\": {\"field\": \"*\", \"aggregate\": \"count\", \"type\": \"quantitative\", \"bin\": true}, \"y\": {\"field\": \"*\", \"aggregate\": \"count\", \"type\": \"quantitative\", \"bin\": true}, \"y\": {\"field\": \"*\", \"aggregate\": \"count\", \"type\": \"quantitative\", \"bin\": true}, \"y\": {\"field\": \"*\", \"aggregate\": \"count\", \"type\": \"quantitative\", \"bin\": true}, \"y\": {\"field\": \"*\", \"aggregate\": \"count\", \"type\": \"quantitative\", \"bin\": true}, \"y\": {\"field\": \"*\", \"aggregate\": \"count\", \"type\": \"quantitative\", \"bin\": true}, \"y\": {\"field\": \"*\", \"aggregate\": \"count\", \"type\": \"quantitative\", \"bin\": true}, \"y\": {\"field\": \"*\", \"aggregate\": \"count\", \"type\": \"quantitative\", \"bin\": true}, \"y\": {\"field\": \"*\", \"aggregate\": \"count\", \"type\": \"quantitative\", \"bin\": true}, \"y\": {\"field\": \"*\", \"aggregate\": \"count\", \"type\": \"quantitative\", \"bin\": true}, \"y\": {\"field\": \"*\", \"aggregate\": \"count\", \"type\": \"quantitative\", \"bin\": true}, \"y\": {\"field\": \"*\", \"aggregate\": \"count\", \"type\": \"quantitative\", \"bin\": true}, \"y\": {\"field\": \"*\", \"aggregate\": \"count\", \"type\": \"quantitative\", \"bin\": true}, \"y\": {\"field\": \"*\", \"aggregate\": \"count\", \"type\": \"quantitative\", \"bin\": true}, \"y\": {\"field\": \"*\", \"aggregate\": \"count\", \"type\": \"quantitative\", \"bin\": true}, \"x\": {\"field\": \"num5\", \"type\": \"quantitative\", \"bin\": true\n",
      "\n"
     ]
    }
   ],
   "source": [
    "# Print all the 15 outputs\n",
    "for i in range(15):\n",
    "    for j in range(len(outputs[i])):\n",
    "        print(target_vocab.idx2char[outputs[i][j]], end='')\n",
    "    print(\"\\n\")"
   ]
  },
  {
   "cell_type": "code",
   "execution_count": 311,
   "metadata": {},
   "outputs": [],
   "source": [
    "# Save all the 15 outputs in a file\n",
    "with open('progression.txt', 'w') as f:\n",
    "    for i in range(15):\n",
    "        for j in range(len(outputs[i])):\n",
    "            f.write(target_vocab.idx2char[outputs[i][j]])\n",
    "        f.write(\"\\n\")\n",
    "        "
   ]
  },
  {
   "cell_type": "markdown",
   "metadata": {},
   "source": [
    "Will give good results if the model is allowed to train on the entire training data. Paper was able to run with much higher number of epochs and batch size, and encoding dimensions. The paper used 32 as the batch size, while my system was running into out of memory errors for batch size > 4.\n",
    "\n",
    "\n",
    "Training on 800 samples took 10 minutes on my system.\n",
    "20000 steps was suggested in the paper for a batch size of 32, i.e a total of 20000 * 32 = 640000 samples. So, training on my system will take 640000*10/800 = 8000 minutes = 133 hours = 5.5 days."
   ]
  }
 ],
 "metadata": {
  "kernelspec": {
   "display_name": "dl",
   "language": "python",
   "name": "python3"
  },
  "language_info": {
   "codemirror_mode": {
    "name": "ipython",
    "version": 3
   },
   "file_extension": ".py",
   "mimetype": "text/x-python",
   "name": "python",
   "nbconvert_exporter": "python",
   "pygments_lexer": "ipython3",
   "version": "3.9.18"
  },
  "orig_nbformat": 4
 },
 "nbformat": 4,
 "nbformat_minor": 2
}
